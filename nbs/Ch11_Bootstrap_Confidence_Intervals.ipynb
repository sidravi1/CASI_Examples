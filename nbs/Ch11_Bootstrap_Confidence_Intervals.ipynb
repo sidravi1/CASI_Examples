{
 "cells": [
  {
   "cell_type": "markdown",
   "metadata": {},
   "source": [
    "# Chapter 11 - The Bootstrap Confidence Intervals\n",
    "\n",
    "Implementing (and exploring) concepts from Computer Age Statistical Inference. Email me on sid \\dot ravi1 \\at gmail.com if you find any mistakes. This was written for learning purposes so apologies for the crappy varnames and inefficient code."
   ]
  },
  {
   "cell_type": "code",
   "execution_count": 252,
   "metadata": {},
   "outputs": [],
   "source": [
    "import numpy as np\n",
    "import pandas as pd\n",
    "import scipy as sp\n",
    "import pymc3 as pm\n",
    "import sympy as syp\n",
    "\n",
    "import matplotlib.pyplot as plt\n",
    "import seaborn as sns\n",
    "from tqdm import tqdm_notebook as tqdm\n",
    "\n",
    "from theano import tensor as tt"
   ]
  },
  {
   "cell_type": "markdown",
   "metadata": {},
   "source": [
    "## 11.1 Neyman's Construction for One-Parameter Problems"
   ]
  },
  {
   "cell_type": "markdown",
   "metadata": {},
   "source": [
    "We won't calculate the sample correlation here but you could easily do that using pymc3. We'll just go with the analytical solution that they provide in chapter 3."
   ]
  },
  {
   "cell_type": "code",
   "execution_count": 6,
   "metadata": {},
   "outputs": [
    {
     "data": {
      "text/html": [
       "<div>\n",
       "<style scoped>\n",
       "    .dataframe tbody tr th:only-of-type {\n",
       "        vertical-align: middle;\n",
       "    }\n",
       "\n",
       "    .dataframe tbody tr th {\n",
       "        vertical-align: top;\n",
       "    }\n",
       "\n",
       "    .dataframe thead th {\n",
       "        text-align: right;\n",
       "    }\n",
       "</style>\n",
       "<table border=\"1\" class=\"dataframe\">\n",
       "  <thead>\n",
       "    <tr style=\"text-align: right;\">\n",
       "      <th></th>\n",
       "      <th>mech</th>\n",
       "      <th>vecs</th>\n",
       "      <th>alg</th>\n",
       "      <th>analy</th>\n",
       "      <th>stat</th>\n",
       "    </tr>\n",
       "  </thead>\n",
       "  <tbody>\n",
       "    <tr>\n",
       "      <th>0</th>\n",
       "      <td>7</td>\n",
       "      <td>51</td>\n",
       "      <td>43</td>\n",
       "      <td>17</td>\n",
       "      <td>22</td>\n",
       "    </tr>\n",
       "    <tr>\n",
       "      <th>1</th>\n",
       "      <td>44</td>\n",
       "      <td>69</td>\n",
       "      <td>53</td>\n",
       "      <td>53</td>\n",
       "      <td>53</td>\n",
       "    </tr>\n",
       "    <tr>\n",
       "      <th>2</th>\n",
       "      <td>49</td>\n",
       "      <td>41</td>\n",
       "      <td>61</td>\n",
       "      <td>49</td>\n",
       "      <td>64</td>\n",
       "    </tr>\n",
       "    <tr>\n",
       "      <th>3</th>\n",
       "      <td>59</td>\n",
       "      <td>70</td>\n",
       "      <td>68</td>\n",
       "      <td>62</td>\n",
       "      <td>56</td>\n",
       "    </tr>\n",
       "    <tr>\n",
       "      <th>4</th>\n",
       "      <td>34</td>\n",
       "      <td>42</td>\n",
       "      <td>50</td>\n",
       "      <td>47</td>\n",
       "      <td>29</td>\n",
       "    </tr>\n",
       "  </tbody>\n",
       "</table>\n",
       "</div>"
      ],
      "text/plain": [
       "   mech  vecs  alg  analy  stat\n",
       "0     7    51   43     17    22\n",
       "1    44    69   53     53    53\n",
       "2    49    41   61     49    64\n",
       "3    59    70   68     62    56\n",
       "4    34    42   50     47    29"
      ]
     },
     "execution_count": 6,
     "metadata": {},
     "output_type": "execute_result"
    }
   ],
   "source": [
    "scores = pd.read_csv(\"https://web.stanford.edu/~hastie/CASI_files/DATA/student_score.txt\", sep=\" \")\n",
    "scores.head()"
   ]
  },
  {
   "cell_type": "code",
   "execution_count": 390,
   "metadata": {},
   "outputs": [
    {
     "data": {
      "application/vnd.jupyter.widget-view+json": {
       "model_id": "9565cc47e5024645921fc160444ec1a0",
       "version_major": 2,
       "version_minor": 0
      },
      "text/plain": [
       "HBox(children=(IntProgress(value=0), HTML(value='')))"
      ]
     },
     "metadata": {},
     "output_type": "display_data"
    }
   ],
   "source": [
    "syp.init_printing(use_unicode=False, wrap_line=False)\n",
    "x = syp.Symbol('x')\n",
    "theta = 0\n",
    "\n",
    "theta_hat = 0.498\n",
    "theta_hat_low = 0.093\n",
    "theta_hat_high = 0.751\n",
    "\n",
    "n = 22\n",
    "pdf = []\n",
    "\n",
    "for theta in tqdm(np.linspace(-1.0, 1.0, num=100)):\n",
    "    \n",
    "    log_first_term = np.log(n - 2) + ((n - 1)/2) * np.log(1 - theta**2) + ((n - 4)/2) * np.log(1 - theta_hat**2) - np.log(np.pi) \n",
    "    second_term = np.float32(syp.integrals.Integral((syp.functions.elementary.hyperbolic.cosh(x) - theta*theta_hat)**(1-n), (x, 0, syp.oo)).evalf())\n",
    "    val = np.exp(log_first_term) * second_term\n",
    "    \n",
    "    log_first_term = np.log(n - 2) + ((n - 1)/2) * np.log(1 - theta**2) + ((n - 4)/2) * np.log(1 - theta_hat_low**2) - np.log(np.pi) \n",
    "    second_term = np.float32(syp.integrals.Integral((syp.functions.elementary.hyperbolic.cosh(x) - theta*theta_hat_low)**(1-n), (x, 0, syp.oo)).evalf())\n",
    "    low_val = np.exp(log_first_term) * second_term\n",
    "    \n",
    "    log_first_term = np.log(n - 2) + ((n - 1)/2) * np.log(1 - theta**2) + ((n - 4)/2) * np.log(1 - theta_hat_high**2) - np.log(np.pi) \n",
    "    second_term = np.float32(syp.integrals.Integral((syp.functions.elementary.hyperbolic.cosh(x) - theta*theta_hat_high)**(1-n), (x, 0, syp.oo)).evalf())\n",
    "    high_val = np.exp(log_first_term) * second_term\n",
    "    \n",
    "    pdf.append({'low': low_val, 'val':val, 'high':high_val, 'theta':theta})\n",
    "    \n",
    "    "
   ]
  },
  {
   "cell_type": "code",
   "execution_count": 418,
   "metadata": {},
   "outputs": [],
   "source": [
    "pdf_df = pd.DataFrame(pdf)\n",
    "pdf_df['val'] = pdf_df.val \n",
    "pdf_df['low'] = pdf_df.low \n",
    "pdf_df['high'] = pdf_df.high"
   ]
  },
  {
   "cell_type": "code",
   "execution_count": 527,
   "metadata": {},
   "outputs": [
    {
     "data": {
      "image/png": "[encoded data removed]",
      "text/latex": [
       "$$0.439081186531538$$"
      ],
      "text/plain": [
       "0.439081186531538"
      ]
     },
     "execution_count": 527,
     "metadata": {},
     "output_type": "execute_result"
    }
   ],
   "source": [
    "mean_theta = (pdf_df['val']/ (pdf_df['val'].sum()) * np.linspace(-1.0, 1.0, num=100)).sum()\n",
    "mean_theta"
   ]
  },
  {
   "cell_type": "markdown",
   "metadata": {},
   "source": [
    "### Figure 11.1"
   ]
  },
  {
   "cell_type": "code",
   "execution_count": 570,
   "metadata": {},
   "outputs": [
    {
     "data": {
      "image/png": "[encoded data removed]",
      "text/plain": [
       "<Figure size 576x360 with 1 Axes>"
      ]
     },
     "metadata": {},
     "output_type": "display_data"
    }
   ],
   "source": [
    "plt.figure(figsize=(8, 5))\n",
    "theta_vals = np.linspace(-1.0, 1.0, num=100)\n",
    "plt.plot(theta_vals, pdf_df.low, ls=\"--\", color='k', lw=1.0)\n",
    "plt.plot(theta_vals, pdf_df.val, color='maroon', lw=1.0)\n",
    "plt.plot(theta_vals, pdf_df.high, ls=\"--\", color='k', lw=1.0)\n",
    "plt.axhline(y=0, color='k', lw = 0.5)\n",
    "plt.plot(mean_theta, 0, \".\", color='maroon')\n",
    "plt.annotate(\"0.025\", xy=(mean_theta-0.02, 0.1), xytext=(mean_theta - 0.1, 0.35), ha='center',\n",
    "             xycoords='data', arrowprops = {'arrowstyle':'->'}, fontsize=8)\n",
    "\n",
    "plt.annotate(\"0.025\", xy=(mean_theta+0.02, 0.1), xytext=(mean_theta + 0.1, 0.35), ha='center',\n",
    "             xycoords='data', arrowprops = {'arrowstyle':'->'}, fontsize=8)\n",
    "\n",
    "plt.axvline(x=0.4391, ymin=0, ymax=0.14, lw= 1, color='maroon')\n",
    "plt.axvline(x=0.498,lw= 1, ls = ':', color='maroon')\n",
    "\n",
    "plt.axvline(x=0.093,  lw= 1, ls = ':', color='maroon')\n",
    "plt.axvline(x=0.751,  lw= 1, ls = ':', color='maroon')\n",
    "\n",
    "plt.xlim(-0.4, 1.0)\n",
    "plt.yticks(ticks=np.arange(0, 5))\n",
    "plt.xlabel(\"Correlation\")\n",
    "plt.ylabel(\"Density\");"
   ]
  },
  {
   "cell_type": "markdown",
   "metadata": {},
   "source": [
    "This is not quite what CASI has. Actually fig 11.1 doesn't match fig 3.2. The **MAP** is 0.498 not the **mean**, which is lower. I tried to get sample from the distribution with pymc3 and it also doesn't agree with what the book has."
   ]
  },
  {
   "cell_type": "code",
   "execution_count": 323,
   "metadata": {},
   "outputs": [],
   "source": [
    "x = scores[['mech','vecs']].values\n",
    "with pm.Model() as m11_1:\n",
    "    \n",
    "    mu = pm.Normal('mu', 0, 100, shape=2)\n",
    "    packed_L = pm.LKJCholeskyCov('packed_L', n=2,\n",
    "                                 eta=2., sd_dist=pm.HalfCauchy.dist(10))\n",
    "    L = pm.expand_packed_triangular(2, packed_L)\n",
    "    sigma = pm.Deterministic('Σ', L.dot(L.T))\n",
    "    \n",
    "    obs = pm.MvNormal('obs', mu = mu, cov = sigma, observed =x)\n"
   ]
  },
  {
   "cell_type": "code",
   "execution_count": 324,
   "metadata": {},
   "outputs": [
    {
     "name": "stderr",
     "output_type": "stream",
     "text": [
      "Auto-assigning NUTS sampler...\n",
      "Initializing NUTS using jitter+adapt_diag...\n",
      "Multiprocess sampling (4 chains in 4 jobs)\n",
      "NUTS: [packed_L, mu]\n",
      "Sampling 4 chains: 100%|██████████| 24000/24000 [00:27<00:00, 877.08draws/s]\n"
     ]
    }
   ],
   "source": [
    "trace = pm.sample(model=m11_1, draws=5000, tune=1000)"
   ]
  },
  {
   "cell_type": "code",
   "execution_count": 326,
   "metadata": {},
   "outputs": [],
   "source": [
    "ro = trace['Σ'][:, 0, 1]/ (np.sqrt(trace['Σ'][:, 1, 1] * trace['Σ'][:, 0, 0]))"
   ]
  },
  {
   "cell_type": "code",
   "execution_count": 327,
   "metadata": {},
   "outputs": [
    {
     "data": {
      "image/png": "[encoded data removed]",
      "text/latex": [
       "$$\\left ( 0.47302834380804726, \\quad 0.40712249850029403\\right )$$"
      ],
      "text/plain": [
       "(0.47302834380804726, 0.40712249850029403)"
      ]
     },
     "execution_count": 327,
     "metadata": {},
     "output_type": "execute_result"
    }
   ],
   "source": [
    "ro_hist = np.histogram(ro, 500)\n",
    "ro_hist[1][np.argmax(ro_hist[0])], ro.mean()"
   ]
  },
  {
   "cell_type": "code",
   "execution_count": 422,
   "metadata": {},
   "outputs": [
    {
     "data": {
      "text/plain": [
       "[<matplotlib.lines.Line2D at 0x1c37540f98>]"
      ]
     },
     "execution_count": 422,
     "metadata": {},
     "output_type": "execute_result"
    },
    {
     "data": {
      "image/png": "[encoded data removed]",
      "text/plain": [
       "<Figure size 432x288 with 1 Axes>"
      ]
     },
     "metadata": {},
     "output_type": "display_data"
    }
   ],
   "source": [
    "plt.hist(ro, bins=100, density=True);\n",
    "plt.plot(theta_vals, pdf_df.val, color='maroon', lw=1.0)"
   ]
  },
  {
   "cell_type": "markdown",
   "metadata": {},
   "source": [
    "### Figure 11.2: Transformational Invariance"
   ]
  },
  {
   "cell_type": "code",
   "execution_count": 491,
   "metadata": {},
   "outputs": [],
   "source": [
    "def fisher_transform(x):\n",
    "    x = np.float64(x)\n",
    "    return 0.5 * (np.log( 1 + x) - np.log(1 - x))\n",
    "\n",
    "transformed = fisher_transform(theta_vals)\n",
    "pdf_df['trans_theta'] = transformed"
   ]
  },
  {
   "cell_type": "code",
   "execution_count": 492,
   "metadata": {},
   "outputs": [],
   "source": [
    "def normalize(x, y):\n",
    "    norm = ((x - x.shift(1)) * y).astype(float).fillna(0.0)\n",
    "    norm2 = ((x.shift(-1) - x) * y).astype(float).fillna(0.0)\n",
    "    norm_const = (norm[~np.isinf(norm)].sum() + norm2[~np.isinf(norm2)].sum())/2\n",
    "    \n",
    "    return y / norm_const"
   ]
  },
  {
   "cell_type": "code",
   "execution_count": 616,
   "metadata": {},
   "outputs": [],
   "source": [
    "map_val = transformed[np.float32(norm_val).argmax() -1] #need to increase resolution. -1 seems like a better map value\n",
    "map_low = transformed[np.float32(norm_low).argmax()]\n",
    "map_high = transformed[np.float32(norm_high).argmax()]"
   ]
  },
  {
   "cell_type": "code",
   "execution_count": 617,
   "metadata": {},
   "outputs": [
    {
     "name": "stdout",
     "output_type": "stream",
     "text": [
      "18.185858\n"
     ]
    },
    {
     "data": {
      "image/png": "[encoded data removed]",
      "text/plain": [
       "<Figure size 576x360 with 1 Axes>"
      ]
     },
     "metadata": {},
     "output_type": "display_data"
    }
   ],
   "source": [
    "plt.figure(figsize=(8, 5))\n",
    "norm_low = normalize(pdf_df['trans_theta'], pdf_df['low'])\n",
    "norm_val = normalize(pdf_df['trans_theta'], pdf_df['val'])\n",
    "norm_high = normalize(pdf_df['trans_theta'], pdf_df['high'])\n",
    "\n",
    "plt.plot(transformed, norm_low, ls=(0, (5, 10)), color='b', lw=0.8)\n",
    "plt.plot(transformed, norm_val, color='maroon', lw=1.0)\n",
    "plt.plot(transformed, norm_high, ls=(0, (5, 10)), color='b', lw=0.8)\n",
    "plt.axhline(y=0, color='k', lw = 0.5)\n",
    "plt.xlim(-0.6, 1.7)\n",
    "plt.yticks(np.arange(0, 2, 0.5));\n",
    "\n",
    "\n",
    "plt.plot(map_val, 0, \".\", color='maroon')\n",
    "plt.annotate(\"0.025\", xy=(map_val-0.03, 0.1), xytext=(map_val - 0.2, 0.30), ha='center',\n",
    "            xycoords='data', arrowprops = {'arrowstyle':'->'}, fontsize=8)\n",
    "\n",
    "plt.annotate(\"0.025\", xy=(map_val+0.03, 0.1), xytext=(map_val + 0.2, 0.30), ha='center',\n",
    "            xycoords='data', arrowprops = {'arrowstyle':'->'}, fontsize=8)\n",
    "\n",
    "plt.axvline(x=map_val, ymin=0, ymax=0.18, lw= 1, color='maroon')\n",
    "plt.axvline(x=map_low, lw= 1, color='blue')\n",
    "plt.axvline(x=map_high+0.01, lw= 1, color='blue')\n",
    "\n",
    "mean_theta_trans = (transformed * norm_val).astype('float32').fillna(0.0).sum()\n",
    "print(mean_theta_trans)"
   ]
  },
  {
   "cell_type": "markdown",
   "metadata": {},
   "source": [
    "## 11.2 Percentile Method"
   ]
  },
  {
   "cell_type": "code",
   "execution_count": 645,
   "metadata": {},
   "outputs": [],
   "source": [
    "def get_bootstrap(estimator_func, data, n_reps):\n",
    "\n",
    "    # bootstrap\n",
    "    theta_hats = np.full(n_reps, np.nan)\n",
    "\n",
    "    for i in range(n_reps):\n",
    "\n",
    "        idx = np.random.randint(0, data.shape[0], data.shape[0])\n",
    "        theta_hats[i] = estimator_func(data[idx].T)\n",
    "\n",
    "    return theta_hats"
   ]
  },
  {
   "cell_type": "code",
   "execution_count": 861,
   "metadata": {},
   "outputs": [
    {
     "data": {
      "image/png": "[encoded data removed]",
      "text/latex": [
       "$$\\left ( 0.11526125221924982, \\quad 0.7568655003988507\\right )$$"
      ],
      "text/plain": [
       "(0.11526125221924982, 0.7568655003988507)"
      ]
     },
     "execution_count": 861,
     "metadata": {},
     "output_type": "execute_result"
    }
   ],
   "source": [
    "x = scores[['mech','vecs']].values\n",
    "bstrap_est = get_bootstrap(lambda x: np.corrcoef(x)[0][1], x, 2000)\n",
    "mu = bstrap_est.mean()\n",
    "perc2_5, perc97_5= np.percentile(bstrap_est, q=[2.5, 97.5])\n",
    "perc2_5, perc97_5"
   ]
  },
  {
   "cell_type": "markdown",
   "metadata": {},
   "source": [
    "### Figure 11.3"
   ]
  },
  {
   "cell_type": "code",
   "execution_count": 862,
   "metadata": {},
   "outputs": [
    {
     "data": {
      "image/png": "[encoded data removed]",
      "text/plain": [
       "<Figure size 576x360 with 1 Axes>"
      ]
     },
     "metadata": {},
     "output_type": "display_data"
    }
   ],
   "source": [
    "f, ax = plt.subplots(figsize=(8,5))\n",
    "ax.hist(bstrap_est, bins=50, density=True, ec='k', color='cyan', lw=0.5);\n",
    "ax.axvline(x=mu, color='red', lw=1.5)\n",
    "ax.plot(mu, 0, \".\", ms=10, color='r')\n",
    "\n",
    "ax.plot(perc2_5, 0, \"^\", color='r')\n",
    "ax.annotate(\"{:0.2f}\".format(perc2_5), color='r', xy=(perc2_5, 0), ha='center', xytext= (perc2_5, -0.12, ))\n",
    "\n",
    "ax.plot(perc97_5, 0, \"^\", color='r')\n",
    "ax.annotate(\"{:0.2f}\".format(perc97_5), color='r', xy=(perc97_5, 0),ha='center',  xytext= (perc97_5, -0.12, ))\n",
    "ax.set_xlabel(\"Bootstrap Correlations\")\n",
    "ax.set_ylabel(\"Density\")\n",
    "# manually correcting the bias to make the function match the hist. \n",
    "# Not sure where the error is coming from\n",
    "ax.plot(theta_vals + 0.034, pdf_df.val, color='k', lw=1.0) \n",
    "\n",
    "ax.set_xticks(np.arange(-0.4, 1.1, 0.2))\n",
    "tr = ax.get_xaxis_transform()\n",
    "ax.set_xlim(-0.4, 1.0)\n",
    "sns.despine()"
   ]
  },
  {
   "cell_type": "markdown",
   "metadata": {},
   "source": [
    "### Figure 11.4"
   ]
  },
  {
   "cell_type": "code",
   "execution_count": 965,
   "metadata": {},
   "outputs": [],
   "source": [
    "std_low = bstrap_est.mean() + sp.stats.norm.ppf(0.025)*bstrap_est.std()\n",
    "std_high = bstrap_est.mean() + sp.stats.norm.ppf(0.975)*bstrap_est.std()\n",
    "\n",
    "ci_vals = {}\n",
    "ci_vals['Standard'] = {'theta_low':std_low, 'theta_high':std_high}\n",
    "ci_vals['Exact'] = {'theta_low':.093, 'theta_high':0.751}"
   ]
  },
  {
   "cell_type": "code",
   "execution_count": 966,
   "metadata": {},
   "outputs": [],
   "source": [
    "bins, vals = np.histogram(bstrap_est, bins=2000)\n",
    "xvals = (vals[:-1] + vals[1:])/2\n",
    "bin_sums = bins.cumsum() / 2000\n",
    "idx_high = (np.abs(bin_sums - 0.975)).argmin()\n",
    "idx_low = (np.abs(bin_sums - 0.025)).argmin()\n",
    "ci_vals['Percentile'] = {'theta_low':xvals[idx_low], 'theta_high': xvals[idx_high]}"
   ]
  },
  {
   "cell_type": "code",
   "execution_count": 911,
   "metadata": {},
   "outputs": [
    {
     "data": {
      "text/plain": [
       "Text(0.9249898053309824, 1.0, '$\\\\hat{G}$')"
      ]
     },
     "execution_count": 911,
     "metadata": {},
     "output_type": "execute_result"
    },
    {
     "data": {
      "image/png": "[encoded data removed]",
      "text/plain": [
       "<Figure size 576x360 with 1 Axes>"
      ]
     },
     "metadata": {},
     "output_type": "display_data"
    }
   ],
   "source": [
    "f, ax = plt.subplots(figsize=(8,5))\n",
    "ax.plot(xvals, bins.cumsum() / 2000, 'k', lw=1.0)\n",
    "ax.axhline(0, ls=\":\", lw=0.5, c='k')\n",
    "ax.axvline(0, ls=\":\", lw=0.5, c='k')\n",
    "ax.set_xlim(-0.1, 1.0);\n",
    "ax.set_ylim(-0.1, 1.1);\n",
    "ax.set_xlabel(r'$\\hat{\\theta}*$')\n",
    "ax.set_ylabel(r'$\\alpha$');\n",
    "\n",
    "plt.plot([ 0, xvals[idx_low], xvals[idx_low]], [bin_sums[idx_low], bin_sums[idx_low], 0], '.-r', lw=0.5,  ms=5)\n",
    "plt.plot([ 0, xvals[idx_high], xvals[idx_high]], [bin_sums[idx_high], bin_sums[idx_high], 0], '.-r', lw=0.5,  ms=5)\n",
    "\n",
    "#plt.plot([ 0, xvals[idx_low], xvals[idx_low]], [bin_sums[idx_low], bin_sums[idx_low], 0], 'r')\n",
    "plt.annotate(\"0.25\", [-.01, bin_sums[idx_low]], ha='right', va='center', fontsize=8)\n",
    "plt.annotate(\"0.975\", [-.01, bin_sums[idx_high]], ha='right', va='center', fontsize=8)\n",
    "plt.annotate(\"{:0.3f}\".format(xvals[idx_low]), [xvals[idx_low], -0.02], ha='center', va='top', fontsize=8)\n",
    "plt.annotate(\"{:0.3f}\".format(xvals[idx_high]), [xvals[idx_high], -0.02], ha='center', va='top', fontsize=8)\n",
    "\n",
    "\n",
    "plt.annotate(r'$\\hat{G}$', (xvals.max() + 0.02, 1.0), va='center')\n"
   ]
  },
  {
   "cell_type": "markdown",
   "metadata": {},
   "source": [
    "## 11.3 Bias-Corrected Confidence Intervals"
   ]
  },
  {
   "cell_type": "markdown",
   "metadata": {},
   "source": [
    "**Check for bias based on (11.30):** We are not doing an exact integration on the function but instead using an approximation using the point generated from the function."
   ]
  },
  {
   "cell_type": "code",
   "execution_count": 881,
   "metadata": {},
   "outputs": [
    {
     "data": {
      "image/png": "[encoded data removed]",
      "text/latex": [
       "$$0.478062936707206$$"
      ],
      "text/plain": [
       "0.478062936707206"
      ]
     },
     "execution_count": 881,
     "metadata": {},
     "output_type": "execute_result"
    }
   ],
   "source": [
    "p0 = (theta_vals[theta_vals < 0.498] * pdf_df['val'][theta_vals < 0.498]).sum() / (theta_vals * pdf_df['val']).sum()\n",
    "p0"
   ]
  },
  {
   "cell_type": "markdown",
   "metadata": {},
   "source": [
    "This is what the authors get. Not exactly 0.50 so this suggests that $\\hat{\\theta}$ is upward biased.\n",
    "Next we find the bias correction value and calculate $\\hat{\\theta}_{BC}$"
   ]
  },
  {
   "cell_type": "code",
   "execution_count": 967,
   "metadata": {},
   "outputs": [
    {
     "data": {
      "image/png": "[encoded data removed]",
      "text/latex": [
       "$$\\left ( -0.05501580359289983, \\quad 0.019226378635471567, \\quad 0.967838351682085\\right )$$"
      ],
      "text/plain": [
       "(-0.05501580359289983, 0.019226378635471567, 0.967838351682085)"
      ]
     },
     "execution_count": 967,
     "metadata": {},
     "output_type": "execute_result"
    }
   ],
   "source": [
    "z0 = sp.stats.norm.ppf(np.float(p0))\n",
    "θ_2_5 = sp.stats.norm.cdf(2*z0 + sp.stats.norm.ppf(0.025))\n",
    "θ_97_5 = sp.stats.norm.cdf(2*z0 + sp.stats.norm.ppf(0.975))\n",
    "z0, θ_2_5, θ_97_5"
   ]
  },
  {
   "cell_type": "code",
   "execution_count": 968,
   "metadata": {},
   "outputs": [],
   "source": [
    "idx_high = (np.abs(bin_sums - θ_97_5)).argmin()\n",
    "idx_low = (np.abs(bin_sums - θ_2_5)).argmin()\n",
    "\n",
    "ci_vals['BC'] = {'theta_low':xvals[idx_low], 'theta_high': xvals[idx_high]}"
   ]
  },
  {
   "cell_type": "markdown",
   "metadata": {},
   "source": [
    "## 11.4 Second-Order Accuracy"
   ]
  },
  {
   "cell_type": "code",
   "execution_count": 969,
   "metadata": {},
   "outputs": [
    {
     "data": {
      "image/png": "[encoded data removed]",
      "text/latex": [
       "$$\\left ( 0.020187223865843113, \\quad 0.9691364531361382\\right )$$"
      ],
      "text/plain": [
       "(0.020187223865843113, 0.9691364531361382)"
      ]
     },
     "execution_count": 969,
     "metadata": {},
     "output_type": "execute_result"
    }
   ],
   "source": [
    "a = 0.005\n",
    "\n",
    "θbc_2_5 = sp.stats.norm.cdf(z0 + ((z0 + sp.stats.norm.ppf(0.025)) / (1 - a*(z0 + sp.stats.norm.ppf(0.025)))))\n",
    "θbc_97_5 = sp.stats.norm.cdf(z0 + ((z0 + sp.stats.norm.ppf(0.975)) / (1 - a*(z0 + sp.stats.norm.ppf(0.975)))))\n",
    "\n",
    "θbc_2_5, θbc_97_5"
   ]
  },
  {
   "cell_type": "code",
   "execution_count": 970,
   "metadata": {},
   "outputs": [],
   "source": [
    "idx_high = (np.abs(bin_sums - θbc_97_5)).argmin()\n",
    "idx_low = (np.abs(bin_sums - θbc_2_5)).argmin()\n",
    "\n",
    "ci_vals['BCa'] = {'theta_low':xvals[idx_low], 'theta_high': xvals[idx_high]}"
   ]
  },
  {
   "cell_type": "code",
   "execution_count": 972,
   "metadata": {},
   "outputs": [
    {
     "data": {
      "text/html": [
       "<div>\n",
       "<style scoped>\n",
       "    .dataframe tbody tr th:only-of-type {\n",
       "        vertical-align: middle;\n",
       "    }\n",
       "\n",
       "    .dataframe tbody tr th {\n",
       "        vertical-align: top;\n",
       "    }\n",
       "\n",
       "    .dataframe thead th {\n",
       "        text-align: right;\n",
       "    }\n",
       "</style>\n",
       "<table border=\"1\" class=\"dataframe\">\n",
       "  <thead>\n",
       "    <tr style=\"text-align: right;\">\n",
       "      <th></th>\n",
       "      <th>theta_high</th>\n",
       "      <th>theta_low</th>\n",
       "    </tr>\n",
       "  </thead>\n",
       "  <tbody>\n",
       "    <tr>\n",
       "      <th>Standard</th>\n",
       "      <td>0.81</td>\n",
       "      <td>0.17</td>\n",
       "    </tr>\n",
       "    <tr>\n",
       "      <th>Percentile</th>\n",
       "      <td>0.76</td>\n",
       "      <td>0.11</td>\n",
       "    </tr>\n",
       "    <tr>\n",
       "      <th>BC</th>\n",
       "      <td>0.74</td>\n",
       "      <td>0.09</td>\n",
       "    </tr>\n",
       "    <tr>\n",
       "      <th>BCa</th>\n",
       "      <td>0.75</td>\n",
       "      <td>0.09</td>\n",
       "    </tr>\n",
       "    <tr>\n",
       "      <th>Exact</th>\n",
       "      <td>0.75</td>\n",
       "      <td>0.09</td>\n",
       "    </tr>\n",
       "  </tbody>\n",
       "</table>\n",
       "</div>"
      ],
      "text/plain": [
       "            theta_high  theta_low\n",
       "Standard          0.81       0.17\n",
       "Percentile        0.76       0.11\n",
       "BC                0.74       0.09\n",
       "BCa               0.75       0.09\n",
       "Exact             0.75       0.09"
      ]
     },
     "execution_count": 972,
     "metadata": {},
     "output_type": "execute_result"
    }
   ],
   "source": [
    "df = pd.DataFrame(ci_vals).T\n",
    "df.loc[['Standard','Percentile','BC', 'BCa', 'Exact']].round(2)"
   ]
  },
  {
   "cell_type": "code",
   "execution_count": 909,
   "metadata": {},
   "outputs": [
    {
     "data": {
      "image/png": "[encoded data removed]",
      "text/plain": [
       "<Figure size 576x360 with 1 Axes>"
      ]
     },
     "metadata": {},
     "output_type": "display_data"
    }
   ],
   "source": [
    "f, ax = plt.subplots(figsize=(8,5))\n",
    "ax.plot(xvals, bins.cumsum() / 2000, 'k', lw=1.0)\n",
    "ax.axhline(0, ls=\":\", lw=0.5, c='k')\n",
    "ax.axvline(0, ls=\":\", lw=0.5, c='k')\n",
    "ax.set_xlim(-0.1, 1.0);\n",
    "ax.set_ylim(-0.1, 1.1);\n",
    "ax.set_xlabel(r'$\\hat{\\theta}*$')\n",
    "ax.set_ylabel(r'$\\alpha$');\n",
    "\n",
    "plt.plot([ 0, xvals[idx_low], xvals[idx_low]], [bin_sums[idx_low], bin_sums[idx_low], 0], '.-r', lw=0.5,  ms=5)\n",
    "plt.plot([ 0, xvals[idx_high], xvals[idx_high]], [bin_sums[idx_high], bin_sums[idx_high], 0], '.-r', lw=0.5,  ms=5)\n",
    "\n",
    "#plt.plot([ 0, xvals[idx_low], xvals[idx_low]], [bin_sums[idx_low], bin_sums[idx_low], 0], 'r')\n",
    "plt.annotate(\"{:0.3f}\".format(bin_sums[idx_low]), [-.01, bin_sums[idx_low]], ha='right', va='center', fontsize=8)\n",
    "plt.annotate(\"{:0.3f}\".format(bin_sums[idx_high]), [-.01, bin_sums[idx_high]], ha='right', va='center', fontsize=8)\n",
    "plt.annotate(\"{:0.3f}\".format(xvals[idx_low]), [xvals[idx_low], -0.02], ha='center', va='top', fontsize=8)\n",
    "plt.annotate(\"{:0.3f}\".format(xvals[idx_high]), [xvals[idx_high], -0.02], ha='center', va='top', fontsize=8)\n",
    "\n",
    "plt.title(\"Bias-Corrected Confidence Intervals\")\n",
    "plt.annotate(r'$\\hat{G}$', (xvals.max() + 0.02, 1.0), va='center');\n"
   ]
  },
  {
   "cell_type": "code",
   "execution_count": 984,
   "metadata": {},
   "outputs": [
    {
     "data": {
      "image/png": "[encoded data removed]",
      "text/latex": [
       "$$3.8019357860699765$$"
      ],
      "text/plain": [
       "3.8019357860699765"
      ]
     },
     "execution_count": 984,
     "metadata": {},
     "output_type": "execute_result"
    }
   ],
   "source": [
    "pois10 = sp.stats.poisson(10.0).rvs(5000)\n",
    "10 - 1.96 * 10**(1/2)"
   ]
  },
  {
   "cell_type": "markdown",
   "metadata": {},
   "source": [
    "### Table 11.2"
   ]
  },
  {
   "cell_type": "code",
   "execution_count": 1008,
   "metadata": {},
   "outputs": [
    {
     "data": {
      "image/png": "[encoded data removed]",
      "text/plain": [
       "<Figure size 432x288 with 1 Axes>"
      ]
     },
     "metadata": {},
     "output_type": "display_data"
    }
   ],
   "source": [
    "plt.hist(sp.stats.poisson(10.5).rvs(1000));"
   ]
  },
  {
   "cell_type": "code",
   "execution_count": 1020,
   "metadata": {},
   "outputs": [
    {
     "data": {
      "image/png": "[encoded data removed]",
      "text/latex": [
       "$$0.03965943749149268$$"
      ],
      "text/plain": [
       "0.03965943749149268"
      ]
     },
     "execution_count": 1020,
     "metadata": {},
     "output_type": "execute_result"
    }
   ],
   "source": [
    "10**(5.08) * np.exp(-10) / (np.math.gamma(5.08 + 1))"
   ]
  },
  {
   "cell_type": "code",
   "execution_count": 1025,
   "metadata": {},
   "outputs": [
    {
     "data": {
      "image/png": "[encoded data removed]",
      "text/latex": [
       "$$0.03783327480207071$$"
      ],
      "text/plain": [
       "0.03783327480207071"
      ]
     },
     "execution_count": 1025,
     "metadata": {},
     "output_type": "execute_result"
    }
   ],
   "source": [
    "10**5 * np.exp(-10) / (np.math.factorial(np.round(5)))"
   ]
  },
  {
   "cell_type": "code",
   "execution_count": 1029,
   "metadata": {},
   "outputs": [
    {
     "data": {
      "text/plain": [
       "array([0.06305546, 0.09007923, 0.11259903, 0.12511004, 0.12511004,\n",
       "       0.1137364 , 0.09478033])"
      ]
     },
     "execution_count": 1029,
     "metadata": {},
     "output_type": "execute_result"
    }
   ],
   "source": [
    "sp.stats.poisson(10).pmf([6, 7, 8 , 9 ,10,11, 12])"
   ]
  },
  {
   "cell_type": "code",
   "execution_count": null,
   "metadata": {},
   "outputs": [],
   "source": []
  }
 ],
 "metadata": {
  "kernelspec": {
   "display_name": "Python [default]",
   "language": "python",
   "name": "python3"
  },
  "language_info": {
   "codemirror_mode": {
    "name": "ipython",
    "version": 3
   },
   "file_extension": ".py",
   "mimetype": "text/x-python",
   "name": "python",
   "nbconvert_exporter": "python",
   "pygments_lexer": "ipython3",
   "version": "3.6.5"
  }
 },
 "nbformat": 4,
 "nbformat_minor": 2
}
