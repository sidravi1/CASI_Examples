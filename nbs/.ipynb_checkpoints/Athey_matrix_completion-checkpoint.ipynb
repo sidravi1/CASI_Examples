{
 "cells": [
  {
   "cell_type": "code",
   "execution_count": 526,
   "metadata": {},
   "outputs": [],
   "source": [
    "import numpy as np\n",
    "import pandas as pd\n",
    "import scipy as sp\n",
    "\n",
    "import seaborn as sns\n",
    "import matplotlib.pyplot as plt\n",
    "\n",
    "from tqdm import tqdm_notebook as tqdm"
   ]
  },
  {
   "cell_type": "code",
   "execution_count": 7,
   "metadata": {},
   "outputs": [],
   "source": [
    "BASE_URL = \"https://raw.githubusercontent.com/susanathey/MCPanel/master/tests/examples_from_paper/california/\""
   ]
  },
  {
   "cell_type": "code",
   "execution_count": 40,
   "metadata": {},
   "outputs": [],
   "source": [
    "X = pd.read_csv(BASE_URL + \"smok_covariates.csv\", header=None).values\n",
    "Y = pd.read_csv(BASE_URL + \"smok_outcome.csv\", header=None).values.T\n",
    "treat = pd.read_csv(BASE_URL + \"smok_treatment.csv\", header=None).values.T\n",
    "years = np.arange(1970, 2001)\n",
    "\n",
    "treat = treat[1:,:]\n",
    "Y = Y[1:,:]"
   ]
  },
  {
   "cell_type": "code",
   "execution_count": 663,
   "metadata": {},
   "outputs": [
    {
     "data": {
      "text/plain": [
       "(38, 31)"
      ]
     },
     "execution_count": 663,
     "metadata": {},
     "output_type": "execute_result"
    }
   ],
   "source": [
    "treat.shape"
   ]
  },
  {
   "cell_type": "code",
   "execution_count": 67,
   "metadata": {},
   "outputs": [],
   "source": [
    "N, T = Y.shape\n",
    "number_T0 = 5\n",
    "T0 = np.ceil(T*(np.arange(1, number_T0+1)*2-1)/(2*number_T0)).astype(int)\n",
    "N_t = 35"
   ]
  },
  {
   "cell_type": "markdown",
   "metadata": {},
   "source": [
    "Let's simulate some staggered adoption for a random `N_t` of the population at time `t0`"
   ]
  },
  {
   "cell_type": "code",
   "execution_count": 665,
   "metadata": {},
   "outputs": [
    {
     "data": {
      "text/plain": [
       "array([ 4, 10, 16, 22, 28])"
      ]
     },
     "execution_count": 665,
     "metadata": {},
     "output_type": "execute_result"
    }
   ],
   "source": [
    "T0"
   ]
  },
  {
   "cell_type": "code",
   "execution_count": 626,
   "metadata": {},
   "outputs": [],
   "source": [
    "np.random.seed(10)\n",
    "\n",
    "t0 = T0[2]\n",
    "t0 = 16\n",
    "\n",
    "N_treat_idx = np.random.choice(np.arange(N), size = 15, replace=False)\n",
    "T_treat_idx = np.random.choice(np.arange(t0, T), size = 15, replace=False)\n",
    "\n",
    "treat_mat = np.ones_like(Y)\n",
    "\n",
    "for n, t in zip(N_treat_idx, T_treat_idx):\n",
    "    treat_mat[n, t:] = 0"
   ]
  },
  {
   "cell_type": "code",
   "execution_count": 627,
   "metadata": {},
   "outputs": [],
   "source": [
    "Y_obs = Y * treat_mat"
   ]
  },
  {
   "cell_type": "markdown",
   "metadata": {},
   "source": [
    "# Run the algorithm"
   ]
  },
  {
   "cell_type": "code",
   "execution_count": 686,
   "metadata": {},
   "outputs": [],
   "source": [
    "def getPO(A, O):\n",
    "    \n",
    "    A_out = np.zeros_like(A)\n",
    "    \n",
    "    row_idx = O[:, 0]\n",
    "    col_idx = O[:, 1]\n",
    "    \n",
    "    A_out[tuple(O.T)] = A[tuple(O.T)]\n",
    "\n",
    "    return A_out\n",
    "\n",
    "def getPOinv(A, O):\n",
    "    \n",
    "    A_out = A.copy()\n",
    "    \n",
    "    row_idx = O[:, 0]\n",
    "    col_idx = O[:, 1]\n",
    "    \n",
    "    A_out[tuple(O.T)] = 0\n",
    "\n",
    "    return A_out\n",
    "\n",
    "def shrink_lambda(A, lambd):\n",
    "    \n",
    "    S,Σ,R = np.linalg.svd(A, full_matrices=False)\n",
    "    #print(Σ)\n",
    "    \n",
    "    Σ = Σ - lambd\n",
    "    Σ[Σ < 0] = 0\n",
    "  \n",
    "    return S @ np.diag(Σ) @ R"
   ]
  },
  {
   "cell_type": "code",
   "execution_count": 689,
   "metadata": {},
   "outputs": [
    {
     "data": {
      "text/plain": [
       "(array([[1, 1],\n",
       "        [2, 2]]), array([[0, 0],\n",
       "        [2, 2]]))"
      ]
     },
     "execution_count": 689,
     "metadata": {},
     "output_type": "execute_result"
    }
   ],
   "source": [
    "A = np.array([[1 ,1],[2,2]])\n",
    "Ot = np.array([(0, 1),(0, 0)])\n",
    "A, getPOinv(A, Ot)\n"
   ]
  },
  {
   "cell_type": "code",
   "execution_count": 539,
   "metadata": {},
   "outputs": [],
   "source": [
    "def run_MCNNM(Y_obs, O, lambd = 10, threshold = 0.01, print_every= 200, max_iters = 20000):\n",
    "    \n",
    "    L_prev = getPOinv(Y_obs, O)\n",
    "    change = 1000\n",
    "    iters = 0\n",
    "\n",
    "    while (change > threshold) and (iters < max_iters):\n",
    "        lam = (len(ids) * lambd) / 2 \n",
    "        PO = getPO(Y_obs, O)\n",
    "        PO_inv = getPOinv(L_prev, O)\n",
    "        \n",
    "        L_star = PO + PO_inv\n",
    "        L_new = shrink_lambda(L_star, lambd)\n",
    "\n",
    "        change = np.linalg.norm((L_prev - L_new))\n",
    "\n",
    "        loss = ((Y_obs - L_new)**2).sum() / Y.sum()\n",
    "        real_loss = ((Y - L_new)**2).sum() / Y.sum()\n",
    "        \n",
    "        L_prev = L_new\n",
    "        iters += 1\n",
    "        \n",
    "        if (print_every is not None) and ((k % print_every) == 0):\n",
    "            print(loss, change, real_loss)\n",
    "            \n",
    "    return L_new"
   ]
  },
  {
   "cell_type": "code",
   "execution_count": 568,
   "metadata": {},
   "outputs": [],
   "source": [
    "from sklearn.model_selection import KFold\n",
    "\n",
    "def get_CV_score(Y_obs, O, lambd, n_folds = 4, verbose=False):\n",
    "    \n",
    "    kfold = KFold(n_splits=n_folds, shuffle=True)\n",
    "    \n",
    "    mse = 0\n",
    "    for i, (Otr_idx, Otst_idx) in enumerate(kfold.split(O)):\n",
    "        Otr = O[Otr_idx]\n",
    "        Otst = O[Otst_idx]\n",
    "        if verbose: print(\".\", end=\"\")\n",
    "        \n",
    "        L = run_MCNNM(Y_obs, Otr, lambd, threshold = 1e-10, print_every= 15000, max_iters = 20000)\n",
    "        \n",
    "        mse += ((Y_obs[tuple(Otst.T)] - L[tuple(Otst.T)])**2).sum()\n",
    "    \n",
    "    return mse / n_folds\n",
    "\n",
    "def do_CV(Y_obs, O, lambdas = [5, 10, 20, 40], n_tries = 10, verbose=False):\n",
    "    \n",
    "    score = {}\n",
    "    \n",
    "    for t in tqdm(range(n_tries)):\n",
    "        run_score = {}\n",
    "        for l in tqdm(lambdas, leave=False):\n",
    "            if verbose: print(f\"lambda {l}:\", end=\"\")\n",
    "            run_score[l] = get_CV_score(Y_obs, O, l, n_folds = 4, verbose=verbose)\n",
    "            if verbose: print(f\" : {run_score[l]}\")\n",
    "        score[t] = run_score\n",
    "    return score"
   ]
  },
  {
   "cell_type": "markdown",
   "metadata": {},
   "source": [
    "# Run cross-validation to find optimal lambda"
   ]
  },
  {
   "cell_type": "code",
   "execution_count": 629,
   "metadata": {},
   "outputs": [
    {
     "data": {
      "application/vnd.jupyter.widget-view+json": {
       "model_id": "9f645a39098e47fa8cb200085a75b2de",
       "version_major": 2,
       "version_minor": 0
      },
      "text/plain": [
       "HBox(children=(IntProgress(value=0, max=20), HTML(value='')))"
      ]
     },
     "metadata": {},
     "output_type": "display_data"
    },
    {
     "data": {
      "application/vnd.jupyter.widget-view+json": {
       "model_id": "",
       "version_major": 2,
       "version_minor": 0
      },
      "text/plain": [
       "HBox(children=(IntProgress(value=0, max=8), HTML(value='')))"
      ]
     },
     "metadata": {},
     "output_type": "display_data"
    },
    {
     "data": {
      "application/vnd.jupyter.widget-view+json": {
       "model_id": "",
       "version_major": 2,
       "version_minor": 0
      },
      "text/plain": [
       "HBox(children=(IntProgress(value=0, max=8), HTML(value='')))"
      ]
     },
     "metadata": {},
     "output_type": "display_data"
    },
    {
     "data": {
      "application/vnd.jupyter.widget-view+json": {
       "model_id": "",
       "version_major": 2,
       "version_minor": 0
      },
      "text/plain": [
       "HBox(children=(IntProgress(value=0, max=8), HTML(value='')))"
      ]
     },
     "metadata": {},
     "output_type": "display_data"
    },
    {
     "data": {
      "application/vnd.jupyter.widget-view+json": {
       "model_id": "",
       "version_major": 2,
       "version_minor": 0
      },
      "text/plain": [
       "HBox(children=(IntProgress(value=0, max=8), HTML(value='')))"
      ]
     },
     "metadata": {},
     "output_type": "display_data"
    },
    {
     "data": {
      "application/vnd.jupyter.widget-view+json": {
       "model_id": "",
       "version_major": 2,
       "version_minor": 0
      },
      "text/plain": [
       "HBox(children=(IntProgress(value=0, max=8), HTML(value='')))"
      ]
     },
     "metadata": {},
     "output_type": "display_data"
    },
    {
     "data": {
      "application/vnd.jupyter.widget-view+json": {
       "model_id": "",
       "version_major": 2,
       "version_minor": 0
      },
      "text/plain": [
       "HBox(children=(IntProgress(value=0, max=8), HTML(value='')))"
      ]
     },
     "metadata": {},
     "output_type": "display_data"
    },
    {
     "data": {
      "application/vnd.jupyter.widget-view+json": {
       "model_id": "",
       "version_major": 2,
       "version_minor": 0
      },
      "text/plain": [
       "HBox(children=(IntProgress(value=0, max=8), HTML(value='')))"
      ]
     },
     "metadata": {},
     "output_type": "display_data"
    },
    {
     "data": {
      "application/vnd.jupyter.widget-view+json": {
       "model_id": "",
       "version_major": 2,
       "version_minor": 0
      },
      "text/plain": [
       "HBox(children=(IntProgress(value=0, max=8), HTML(value='')))"
      ]
     },
     "metadata": {},
     "output_type": "display_data"
    },
    {
     "data": {
      "application/vnd.jupyter.widget-view+json": {
       "model_id": "",
       "version_major": 2,
       "version_minor": 0
      },
      "text/plain": [
       "HBox(children=(IntProgress(value=0, max=8), HTML(value='')))"
      ]
     },
     "metadata": {},
     "output_type": "display_data"
    },
    {
     "data": {
      "application/vnd.jupyter.widget-view+json": {
       "model_id": "",
       "version_major": 2,
       "version_minor": 0
      },
      "text/plain": [
       "HBox(children=(IntProgress(value=0, max=8), HTML(value='')))"
      ]
     },
     "metadata": {},
     "output_type": "display_data"
    },
    {
     "data": {
      "application/vnd.jupyter.widget-view+json": {
       "model_id": "",
       "version_major": 2,
       "version_minor": 0
      },
      "text/plain": [
       "HBox(children=(IntProgress(value=0, max=8), HTML(value='')))"
      ]
     },
     "metadata": {},
     "output_type": "display_data"
    },
    {
     "data": {
      "application/vnd.jupyter.widget-view+json": {
       "model_id": "",
       "version_major": 2,
       "version_minor": 0
      },
      "text/plain": [
       "HBox(children=(IntProgress(value=0, max=8), HTML(value='')))"
      ]
     },
     "metadata": {},
     "output_type": "display_data"
    },
    {
     "data": {
      "application/vnd.jupyter.widget-view+json": {
       "model_id": "",
       "version_major": 2,
       "version_minor": 0
      },
      "text/plain": [
       "HBox(children=(IntProgress(value=0, max=8), HTML(value='')))"
      ]
     },
     "metadata": {},
     "output_type": "display_data"
    },
    {
     "data": {
      "application/vnd.jupyter.widget-view+json": {
       "model_id": "",
       "version_major": 2,
       "version_minor": 0
      },
      "text/plain": [
       "HBox(children=(IntProgress(value=0, max=8), HTML(value='')))"
      ]
     },
     "metadata": {},
     "output_type": "display_data"
    },
    {
     "data": {
      "application/vnd.jupyter.widget-view+json": {
       "model_id": "",
       "version_major": 2,
       "version_minor": 0
      },
      "text/plain": [
       "HBox(children=(IntProgress(value=0, max=8), HTML(value='')))"
      ]
     },
     "metadata": {},
     "output_type": "display_data"
    },
    {
     "data": {
      "application/vnd.jupyter.widget-view+json": {
       "model_id": "",
       "version_major": 2,
       "version_minor": 0
      },
      "text/plain": [
       "HBox(children=(IntProgress(value=0, max=8), HTML(value='')))"
      ]
     },
     "metadata": {},
     "output_type": "display_data"
    },
    {
     "data": {
      "application/vnd.jupyter.widget-view+json": {
       "model_id": "",
       "version_major": 2,
       "version_minor": 0
      },
      "text/plain": [
       "HBox(children=(IntProgress(value=0, max=8), HTML(value='')))"
      ]
     },
     "metadata": {},
     "output_type": "display_data"
    },
    {
     "data": {
      "application/vnd.jupyter.widget-view+json": {
       "model_id": "",
       "version_major": 2,
       "version_minor": 0
      },
      "text/plain": [
       "HBox(children=(IntProgress(value=0, max=8), HTML(value='')))"
      ]
     },
     "metadata": {},
     "output_type": "display_data"
    },
    {
     "data": {
      "application/vnd.jupyter.widget-view+json": {
       "model_id": "",
       "version_major": 2,
       "version_minor": 0
      },
      "text/plain": [
       "HBox(children=(IntProgress(value=0, max=8), HTML(value='')))"
      ]
     },
     "metadata": {},
     "output_type": "display_data"
    },
    {
     "data": {
      "application/vnd.jupyter.widget-view+json": {
       "model_id": "",
       "version_major": 2,
       "version_minor": 0
      },
      "text/plain": [
       "HBox(children=(IntProgress(value=0, max=8), HTML(value='')))"
      ]
     },
     "metadata": {},
     "output_type": "display_data"
    }
   ],
   "source": [
    "cv_score = do_CV(Y_obs, O, lambdas=[5, 7, 9, 10, 11, 13, 15, 20], n_tries = 20)"
   ]
  },
  {
   "cell_type": "code",
   "execution_count": 630,
   "metadata": {},
   "outputs": [],
   "source": [
    "cv_score_df = pd.DataFrame(cv_score)"
   ]
  },
  {
   "cell_type": "code",
   "execution_count": 631,
   "metadata": {},
   "outputs": [
    {
     "data": {
      "text/plain": [
       "5     51691.331345\n",
       "7     49340.702173\n",
       "9     48596.922454\n",
       "10    51582.056636\n",
       "11    50683.375043\n",
       "13    51363.003221\n",
       "15    50077.462441\n",
       "20    54123.201935\n",
       "dtype: float64"
      ]
     },
     "execution_count": 631,
     "metadata": {},
     "output_type": "execute_result"
    }
   ],
   "source": [
    "cv_score_df.mean(axis=1)"
   ]
  },
  {
   "cell_type": "code",
   "execution_count": 691,
   "metadata": {},
   "outputs": [
    {
     "data": {
      "text/plain": [
       "Text(51.0, 0.5, 'λ')"
      ]
     },
     "execution_count": 691,
     "metadata": {},
     "output_type": "execute_result"
    },
    {
     "data": {
      "image/png": "[encoded data removed]",
      "text/plain": [
       "<Figure size 576x360 with 2 Axes>"
      ]
     },
     "metadata": {},
     "output_type": "display_data"
    }
   ],
   "source": [
    "plt.figure(figsize=(8, 5))\n",
    "ax = sns.heatmap(cv_score_df, linewidths=1)\n",
    "ax.set_xticks([]);\n",
    "\n",
    "ax.set_xlabel(\"Iteration\")\n",
    "ax.set_ylabel(\"λ\")\n",
    "#plt.savefig(\"../../sidravi1.github.io/assets/2018_12_02_cross_val.png\")"
   ]
  },
  {
   "cell_type": "markdown",
   "metadata": {},
   "source": [
    "# Run matrix completion with optimal lambda"
   ]
  },
  {
   "cell_type": "code",
   "execution_count": 635,
   "metadata": {},
   "outputs": [],
   "source": [
    "lambd = 9\n",
    "threshold = 1e-10\n",
    "O = np.argwhere(treat_mat)\n",
    "\n",
    "L = run_MCNNM(Y_obs, O, lambd, threshold, print_every= 1000, max_iters = 20000)"
   ]
  },
  {
   "cell_type": "code",
   "execution_count": 667,
   "metadata": {},
   "outputs": [
    {
     "data": {
      "image/png": "[encoded data removed]",
      "text/plain": [
       "<Figure size 1080x360 with 3 Axes>"
      ]
     },
     "metadata": {},
     "output_type": "display_data"
    }
   ],
   "source": [
    "vmin = Y.min()\n",
    "vmax = Y.max()\n",
    "\n",
    "f, (ax1, ax2, ax3) = plt.subplots(1, 3, figsize=(15, 5))\n",
    "sns.heatmap(Y, linewidths=0, vmax=vmax, vmin=vmin, ax = ax1, cmap = 'mako_r', cbar=False)\n",
    "ax1.set_title(\"Y: Original Matrix\")\n",
    "\n",
    "sns.heatmap(Y_obs, linewidths=0, vmax=vmax, vmin=vmin, ax = ax2, cmap = 'mako_r', cbar=False)\n",
    "ax2.set_title(\"Y_obs: Observed Matrix\")\n",
    "ax2.set_yticks([])\n",
    "\n",
    "sns.heatmap(L, linewidths=0, vmax=vmax, vmin=vmin, ax = ax3, cmap = 'mako_r', cbar=False)\n",
    "ax3.set_title(\"L: Completed Matrix\")\n",
    "ax3.set_yticks([])\n",
    "\n",
    "\n",
    "plt.tight_layout()\n",
    "\n",
    "plt.savefig(\"../../sidravi1.github.io/assets/2018_12_02_athey_reconstructed.png\")"
   ]
  },
  {
   "cell_type": "code",
   "execution_count": 668,
   "metadata": {},
   "outputs": [
    {
     "data": {
      "image/png": "[encoded data removed]",
      "text/plain": [
       "<Figure size 720x360 with 2 Axes>"
      ]
     },
     "metadata": {},
     "output_type": "display_data"
    }
   ],
   "source": [
    "vmin = Y.min()\n",
    "vmax = Y.max()\n",
    "\n",
    "f, (ax1, ax2) = plt.subplots(1, 2, figsize=(10, 5))\n",
    "sns.heatmap(L, linewidths=0, vmax=vmax, vmin=vmin, ax = ax1, cmap = 'mako_r', cbar=False)\n",
    "ax1.set_title(\"Y: Original Matrix\")\n",
    "\n",
    "sns.heatmap(Y_obs, linewidths=0, vmax=vmax, vmin=vmin, ax = ax2, cmap = 'mako_r', cbar=False)\n",
    "ax2.set_title(\"Y_obs: Observed Matrix\")\n",
    "ax2.set_yticks([])\n",
    "\n",
    "plt.tight_layout()\n",
    "\n",
    "plt.savefig(\"../../sidravi1.github.io/assets/2018_12_02_athey_setup.png\")"
   ]
  },
  {
   "cell_type": "code",
   "execution_count": null,
   "metadata": {},
   "outputs": [],
   "source": []
  }
 ],
 "metadata": {
  "kernelspec": {
   "display_name": "Python [default]",
   "language": "python",
   "name": "python3"
  },
  "language_info": {
   "codemirror_mode": {
    "name": "ipython",
    "version": 3
   },
   "file_extension": ".py",
   "mimetype": "text/x-python",
   "name": "python",
   "nbconvert_exporter": "python",
   "pygments_lexer": "ipython3",
   "version": "3.6.5"
  }
 },
 "nbformat": 4,
 "nbformat_minor": 2
}
