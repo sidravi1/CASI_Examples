{
 "cells": [
  {
   "cell_type": "code",
   "execution_count": 93,
   "metadata": {},
   "outputs": [],
   "source": [
    "import pandas as pd\n",
    "import numpy as np\n",
    "import scipy.stats as st\n",
    "import scipy as sp\n",
    "import seaborn as sns\n",
    "import matplotlib.pyplot as plt\n",
    "\n",
    "import pymc3 as pm\n",
    "import theano.tensor as tt\n",
    "from autograd import scipy as spg\n",
    "from autograd import numpy as npg\n",
    "\n"
   ]
  },
  {
   "cell_type": "code",
   "execution_count": 395,
   "metadata": {},
   "outputs": [],
   "source": [
    "# Simulation 100 t-tests with 0.05\n",
    "dist1 = np.random.normal(0, 1, size = (1100, 100))\n",
    "dist2 = np.random.normal(0, 1, size = (1100, 100))\n",
    "\n",
    "_, p_vals = st.ttest_ind(dist1, dist2, axis = 1)\n"
   ]
  },
  {
   "cell_type": "code",
   "execution_count": 396,
   "metadata": {},
   "outputs": [
    {
     "data": {
      "image/png": "[encoded data removed]",
      "text/plain": [
       "<Figure size 504x360 with 1 Axes>"
      ]
     },
     "metadata": {
      "needs_background": "light"
     },
     "output_type": "display_data"
    }
   ],
   "source": [
    "plt.figure(figsize=(7,5))\n",
    "_, _, patches = plt.hist(p_vals, bins =20, ec ='w', density=True);\n",
    "patches[0].set_fc('r')\n",
    "plt.grid()\n",
    "sns.despine(left=True)\n",
    "\n",
    "plt.savefig(\"../../../../sidravi1.github.io/assets/20200410_dummy_data.png\")"
   ]
  },
  {
   "cell_type": "code",
   "execution_count": 377,
   "metadata": {},
   "outputs": [],
   "source": [
    "data = pd.read_csv(\"./prostmat.csv\")"
   ]
  },
  {
   "cell_type": "code",
   "execution_count": 378,
   "metadata": {},
   "outputs": [],
   "source": [
    "control_cols = [x for x in list(data.columns) if x.startswith('control')]\n",
    "cancer_cols = [x for x in list(data.columns) if x.startswith('cancer')]\n",
    "\n",
    "prostrate = data.melt(var_name = 'arm')\n",
    "prostrate['patient_id'] = prostrate.arm.str.extract(r\".([0-9]*)$\")\n",
    "prostrate['arm_type'] = prostrate.arm.str.extract(r\"^([a-z]*).?[0-9]*$\")"
   ]
  },
  {
   "cell_type": "code",
   "execution_count": 379,
   "metadata": {},
   "outputs": [],
   "source": [
    "prostrate.loc[prostrate[\"patient_id\"] == \"\", \"patient_id\"] = \"0\"\n",
    "prostrate['gene'] = prostrate.groupby(['arm','patient_id'])['value'].cumcount()"
   ]
  },
  {
   "cell_type": "code",
   "execution_count": 380,
   "metadata": {},
   "outputs": [],
   "source": [
    "ttest_res = dict()\n",
    "p_val = dict()\n",
    "for gene, df in prostrate.groupby('gene'):\n",
    "    ttest_res[gene], p_val[gene] = st.ttest_ind(df.loc[df.arm_type == 'control', 'value'], df.loc[df.arm_type == 'cancer', 'value'])"
   ]
  },
  {
   "cell_type": "code",
   "execution_count": 381,
   "metadata": {},
   "outputs": [],
   "source": [
    "trans_t = st.norm.ppf(st.t(df = 100).cdf(list(ttest_res.values())))"
   ]
  },
  {
   "cell_type": "code",
   "execution_count": 382,
   "metadata": {},
   "outputs": [
    {
     "data": {
      "text/plain": [
       "array([-1.46953732, -3.55222426,  0.02766708, ...,  1.18812022,\n",
       "       -0.1034607 ,  0.91200949])"
      ]
     },
     "execution_count": 382,
     "metadata": {},
     "output_type": "execute_result"
    }
   ],
   "source": [
    "trans_t"
   ]
  },
  {
   "cell_type": "code",
   "execution_count": 394,
   "metadata": {},
   "outputs": [
    {
     "data": {
      "image/png": "[encoded data removed]",
      "text/plain": [
       "<Figure size 504x360 with 1 Axes>"
      ]
     },
     "metadata": {
      "needs_background": "light"
     },
     "output_type": "display_data"
    }
   ],
   "source": [
    "plt.figure(figsize=(7,5))\n",
    "plt.hist(trans_t, bins=50, ec = 'w', density=True);\n",
    "plt.plot(np.linspace(-5, 5, 100) , st.norm.pdf(np.linspace(-5, 5, 100)), lw = 1, color = 'r',)\n",
    "f = plt.gca()\n",
    "f.axes.get_yaxis().set_visible(False)\n",
    "#plt.grid()\n",
    "sns.despine(left=True)\n",
    "\n",
    "plt.savefig(\"../../../../sidravi1.github.io/assets/20200410_prostrate_data.png\")"
   ]
  },
  {
   "cell_type": "code",
   "execution_count": 8,
   "metadata": {},
   "outputs": [],
   "source": [
    "gene10_control = prostrate.loc[(prostrate.gene == 10) & (prostrate.arm_type == 'control'), 'value']\n",
    "gene10_cancer = prostrate.loc[(prostrate.gene == 10 )& (prostrate.arm_type == 'cancer'), 'value']\n",
    "\n",
    "g10_control_mu, g10_control_svar = np.mean(gene10_control), np.var(gene10_control, ddof=1) / len(gene10_control)\n",
    "g10_cancer_mu, g10_cancer_svar = np.mean(gene10_cancer), np.var(gene10_cancer, ddof=1) / len(gene10_cancer)\n",
    "\n",
    "diff_se = np.sqrt(g10_control_svar + g10_cancer_svar)\n",
    "diff_mu = g10_control_mu - g10_cancer_mu"
   ]
  },
  {
   "cell_type": "code",
   "execution_count": 9,
   "metadata": {},
   "outputs": [
    {
     "data": {
      "text/plain": [
       "0.000820364421652602"
      ]
     },
     "execution_count": 9,
     "metadata": {},
     "output_type": "execute_result"
    }
   ],
   "source": [
    "st.t(df = 100, loc = 0, scale = diff_se).cdf(diff_mu) * 2"
   ]
  },
  {
   "cell_type": "code",
   "execution_count": 10,
   "metadata": {},
   "outputs": [
    {
     "data": {
      "text/plain": [
       "0.0008477232280075913"
      ]
     },
     "execution_count": 10,
     "metadata": {},
     "output_type": "execute_result"
    }
   ],
   "source": [
    "p_val[10]"
   ]
  },
  {
   "cell_type": "markdown",
   "metadata": {},
   "source": [
    "### Under Bonferroni"
   ]
  },
  {
   "cell_type": "code",
   "execution_count": 397,
   "metadata": {},
   "outputs": [
    {
     "data": {
      "text/plain": [
       "(array([-4.64325489, -5.64576222, -4.60622534, -5.10570942]),\n",
       " (array([ 331,  609,  913, 1719]),))"
      ]
     },
     "execution_count": 397,
     "metadata": {},
     "output_type": "execute_result"
    }
   ],
   "source": [
    "ttest_vals = np.array(list(ttest_res.values()))\n",
    "z_vals = st.norm.ppf(st.t.cdf(ttest_vals, df = 100))\n",
    "bonferroni_test = st.norm.ppf(0.05 / len(ttest_vals))\n",
    "ttest_vals[z_vals < bonferroni_test], np.where(z_vals < bonferroni_test)\n"
   ]
  },
  {
   "cell_type": "markdown",
   "metadata": {},
   "source": [
    "### Holm’s procedure "
   ]
  },
  {
   "cell_type": "code",
   "execution_count": 398,
   "metadata": {},
   "outputs": [
    {
     "data": {
      "text/plain": [
       "array([ 609, 1719,  331, ..., 4545, 3939,  363])"
      ]
     },
     "execution_count": 398,
     "metadata": {},
     "output_type": "execute_result"
    }
   ],
   "source": [
    "sorted_order = np.argsort(z_vals)\n",
    "sorted_order"
   ]
  },
  {
   "cell_type": "code",
   "execution_count": 399,
   "metadata": {},
   "outputs": [
    {
     "data": {
      "text/plain": [
       "(array([-4.64325489, -5.64576222, -4.60622534, -4.40374634, -5.10570942]),\n",
       " (array([ 331,  609,  913, 1067, 1719]),))"
      ]
     },
     "execution_count": 399,
     "metadata": {},
     "output_type": "execute_result"
    }
   ],
   "source": [
    "i = np.arange(1, len(ttest_vals)+1)\n",
    "p_vals = st.norm.cdf(z_vals)\n",
    "sort_idx = np.argsort(p_vals)\n",
    "mask = p_vals[sort_idx] > (0.05 / (len(p_vals) - i + 1))\n",
    "min_pval = min(p_vals[sort_idx][mask])\n",
    "\n",
    "ttest_vals[p_vals <= min_pval], np.where(p_vals <= min_pval)"
   ]
  },
  {
   "cell_type": "markdown",
   "metadata": {},
   "source": [
    "### Benjamini–Hochberg FDR Control"
   ]
  },
  {
   "cell_type": "code",
   "execution_count": 400,
   "metadata": {},
   "outputs": [
    {
     "data": {
      "text/plain": [
       "(array([-4.64325489, -4.34905939, -5.64576222, -4.60622534, -4.40374634,\n",
       "        -4.1303678 , -4.31478357, -4.22225316, -3.82613758, -4.10219768,\n",
       "        -5.10570942, -4.01281351, -4.31476232, -4.10309008]),\n",
       " array([5.22364520e-06, 1.64873569e-05, 7.72046120e-08, 6.05122735e-06,\n",
       "        1.33602853e-05, 3.76244920e-05, 1.87952734e-05, 2.66863444e-05,\n",
       "        1.13411720e-04, 4.17639174e-05, 7.88376505e-07, 5.79904041e-05,\n",
       "        1.87967962e-05, 4.16263331e-05]))"
      ]
     },
     "execution_count": 400,
     "metadata": {},
     "output_type": "execute_result"
    }
   ],
   "source": [
    "q = 0.05\n",
    "\n",
    "mask = p_vals[sort_idx] <= ((i / len(p_vals)) * q)\n",
    "max_pval = max(p_vals[sort_idx][mask])\n",
    "\n",
    "ttest_vals[p_vals <= max_pval], p_vals[p_vals <= max_pval]"
   ]
  },
  {
   "cell_type": "code",
   "execution_count": 489,
   "metadata": {},
   "outputs": [
    {
     "data": {
      "text/plain": [
       "array([-5.64576222, -5.10570942, -4.64325489, -4.60622534, -4.40374634,\n",
       "       -4.34905939, -4.31478357, -4.31476232, -4.22225316, -4.1303678 ])"
      ]
     },
     "execution_count": 489,
     "metadata": {},
     "output_type": "execute_result"
    }
   ],
   "source": [
    "np.sort(ttest_vals)[:10]"
   ]
  },
  {
   "cell_type": "code",
   "execution_count": 449,
   "metadata": {},
   "outputs": [
    {
     "data": {
      "text/plain": [
       "array([[ 331],\n",
       "       [ 578],\n",
       "       [ 609],\n",
       "       [ 913],\n",
       "       [1067],\n",
       "       [1076],\n",
       "       [1088],\n",
       "       [1112],\n",
       "       [1129],\n",
       "       [1556],\n",
       "       [1719],\n",
       "       [3374],\n",
       "       [3646],\n",
       "       [4517]])"
      ]
     },
     "execution_count": 449,
     "metadata": {},
     "output_type": "execute_result"
    }
   ],
   "source": [
    "np.argwhere(p_vals <= max_pval)"
   ]
  },
  {
   "cell_type": "markdown",
   "metadata": {},
   "source": [
    "### Figure 15.3"
   ]
  },
  {
   "cell_type": "code",
   "execution_count": 407,
   "metadata": {},
   "outputs": [
    {
     "data": {
      "image/png": "[encoded data removed]",
      "text/plain": [
       "<Figure size 720x432 with 1 Axes>"
      ]
     },
     "metadata": {
      "needs_background": "light"
     },
     "output_type": "display_data"
    }
   ],
   "source": [
    "i = np.arange(1, 51)\n",
    "plt.subplots(figsize = (10, 6))\n",
    "plt.plot(i, p_vals[sort_idx][:50], \".b\", ms=2)\n",
    "plt.plot(i, i * 0.10 / len(p_vals), \"r\", lw=1)\n",
    "plt.plot(i, 0.1 / (len(p_vals) - i + 1), 'k', lw = 1)\n",
    "plt.annotate(\"i = 28\", xy = (28, 28 * 0.10 / len(p_vals)), xytext  = (30, 24 * 0.10 / len(p_vals)), arrowprops=dict(arrowstyle=\"->\",\n",
    "                            connectionstyle=\"arc3\", color='darkred'), color='r' )\n",
    "plt.xlabel(\"index i\")\n",
    "plt.ylabel(\"p-value\")\n",
    "\n",
    "plt.grid()\n",
    "\n",
    "sns.despine(left=True)\n",
    "\n",
    "plt.savefig(\"../../../../sidravi1.github.io/assets/20200410_BH_FDR.png\")"
   ]
  },
  {
   "cell_type": "markdown",
   "metadata": {},
   "source": [
    "## Fully bayesian way"
   ]
  },
  {
   "cell_type": "code",
   "execution_count": 509,
   "metadata": {},
   "outputs": [],
   "source": [
    "x1 = trans_t"
   ]
  },
  {
   "cell_type": "code",
   "execution_count": 510,
   "metadata": {},
   "outputs": [
    {
     "name": "stderr",
     "output_type": "stream",
     "text": [
      "INFO (theano.gof.compilelock): Refreshing lock /Users/sidravi/.theano/compiledir_Darwin-18.6.0-x86_64-i386-64bit-i386-3.7.4-64/lock_dir/lock\n"
     ]
    }
   ],
   "source": [
    "with pm.Model() as m:\n",
    "    \n",
    "    sd = pm.HalfNormal('sd', 3)\n",
    "    \n",
    "    dist1 = pm.Normal.dist(0, 1)\n",
    "    dist2 = pm.Normal.dist(0, sd)\n",
    "    \n",
    "    w = pm.Dirichlet('w', a= np.array([0.9, 0.1])) \n",
    "    like = pm.Mixture('like', w=w, comp_dists=[dist1, dist2], observed=x1)\n",
    "    "
   ]
  },
  {
   "cell_type": "code",
   "execution_count": 511,
   "metadata": {},
   "outputs": [
    {
     "name": "stderr",
     "output_type": "stream",
     "text": [
      "Auto-assigning NUTS sampler...\n",
      "Initializing NUTS using jitter+adapt_diag...\n",
      "Multiprocess sampling (2 chains in 2 jobs)\n",
      "NUTS: [w, sd]\n",
      "Sampling 2 chains: 100%|██████████| 5000/5000 [00:10<00:00, 460.03draws/s]\n",
      "The number of effective samples is smaller than 25% for some parameters.\n"
     ]
    }
   ],
   "source": [
    "sample = pm.sample(model = m, tune=2000, cores=2)"
   ]
  },
  {
   "cell_type": "code",
   "execution_count": 745,
   "metadata": {},
   "outputs": [
    {
     "data": {
      "image/png": "[encoded data removed]",
      "text/plain": [
       "<Figure size 720x360 with 2 Axes>"
      ]
     },
     "metadata": {
      "needs_background": "light"
     },
     "output_type": "display_data"
    }
   ],
   "source": [
    "f, axes = plt.subplots(2, 1, figsize=(10, 5))\n",
    "sns.distplot(sample['sd'], ax=axes[0], color='firebrick', label = r'$\\sigma$')\n",
    "axes[0].legend()\n",
    "axes[0].grid()\n",
    "sns.distplot(sample['w'][:, 1], ax=axes[1], color='dodgerblue', label = r'$\\pi_1$')\n",
    "sns.distplot(sample['w'][:, 0], ax=axes[1], color='seagreen', label = r'$\\pi_0$')\n",
    "axes[1].legend()\n",
    "axes[1].grid()\n",
    "sns.despine(left = True)\n",
    "\n",
    "plt.savefig(\"../../../../sidravi1.github.io/assets/20200412_posterior_dist.png\")"
   ]
  },
  {
   "cell_type": "code",
   "execution_count": 705,
   "metadata": {},
   "outputs": [
    {
     "name": "stderr",
     "output_type": "stream",
     "text": [
      "/Users/sidravi/anaconda3/envs/experiments/lib/python3.7/site-packages/pymc3/stats.py:991: FutureWarning: The join_axes-keyword is deprecated. Use .reindex or .reindex_like on the result to achieve the same functionality.\n",
      "  axis=1, join_axes=[dforg.index])\n"
     ]
    },
    {
     "data": {
      "text/html": [
       "<div>\n",
       "<style scoped>\n",
       "    .dataframe tbody tr th:only-of-type {\n",
       "        vertical-align: middle;\n",
       "    }\n",
       "\n",
       "    .dataframe tbody tr th {\n",
       "        vertical-align: top;\n",
       "    }\n",
       "\n",
       "    .dataframe thead th {\n",
       "        text-align: right;\n",
       "    }\n",
       "</style>\n",
       "<table border=\"1\" class=\"dataframe\">\n",
       "  <thead>\n",
       "    <tr style=\"text-align: right;\">\n",
       "      <th></th>\n",
       "      <th>mean</th>\n",
       "      <th>sd</th>\n",
       "      <th>mc_error</th>\n",
       "      <th>hpd_2.5</th>\n",
       "      <th>hpd_97.5</th>\n",
       "      <th>n_eff</th>\n",
       "      <th>Rhat</th>\n",
       "    </tr>\n",
       "  </thead>\n",
       "  <tbody>\n",
       "    <tr>\n",
       "      <td>sd</td>\n",
       "      <td>1.63733</td>\n",
       "      <td>0.081728</td>\n",
       "      <td>0.004374</td>\n",
       "      <td>1.482677</td>\n",
       "      <td>1.793638</td>\n",
       "      <td>246.380899</td>\n",
       "      <td>0.999233</td>\n",
       "    </tr>\n",
       "    <tr>\n",
       "      <td>w__0</td>\n",
       "      <td>0.82292</td>\n",
       "      <td>0.029401</td>\n",
       "      <td>0.001708</td>\n",
       "      <td>0.768486</td>\n",
       "      <td>0.881537</td>\n",
       "      <td>221.073047</td>\n",
       "      <td>0.999433</td>\n",
       "    </tr>\n",
       "    <tr>\n",
       "      <td>w__1</td>\n",
       "      <td>0.17708</td>\n",
       "      <td>0.029401</td>\n",
       "      <td>0.001708</td>\n",
       "      <td>0.118463</td>\n",
       "      <td>0.231514</td>\n",
       "      <td>221.073047</td>\n",
       "      <td>0.999433</td>\n",
       "    </tr>\n",
       "  </tbody>\n",
       "</table>\n",
       "</div>"
      ],
      "text/plain": [
       "         mean        sd  mc_error   hpd_2.5  hpd_97.5       n_eff      Rhat\n",
       "sd    1.63733  0.081728  0.004374  1.482677  1.793638  246.380899  0.999233\n",
       "w__0  0.82292  0.029401  0.001708  0.768486  0.881537  221.073047  0.999433\n",
       "w__1  0.17708  0.029401  0.001708  0.118463  0.231514  221.073047  0.999433"
      ]
     },
     "execution_count": 705,
     "metadata": {},
     "output_type": "execute_result"
    }
   ],
   "source": [
    "pm.summary(sample)"
   ]
  },
  {
   "cell_type": "markdown",
   "metadata": {},
   "source": [
    "## Local fdr"
   ]
  },
  {
   "cell_type": "code",
   "execution_count": 706,
   "metadata": {},
   "outputs": [],
   "source": [
    "f1 = st.norm(0, sample['sd']).pdf(x1.reshape(-1, 1))\n",
    "f0 = st.norm(0, 1).pdf(x1.reshape(-1, 1))"
   ]
  },
  {
   "cell_type": "code",
   "execution_count": 707,
   "metadata": {},
   "outputs": [],
   "source": [
    "f = (sample['w'][:, 0] * f0) + (sample['w'][:, 1] * f1)"
   ]
  },
  {
   "cell_type": "code",
   "execution_count": 709,
   "metadata": {},
   "outputs": [],
   "source": [
    "f_ratio = sample['w'][:, 0] * f0/f"
   ]
  },
  {
   "cell_type": "code",
   "execution_count": 710,
   "metadata": {},
   "outputs": [
    {
     "data": {
      "image/png": "[encoded data removed]",
      "text/plain": [
       "<Figure size 432x288 with 1 Axes>"
      ]
     },
     "metadata": {
      "needs_background": "light"
     },
     "output_type": "display_data"
    }
   ],
   "source": [
    "f_ratio_mean = f_ratio.mean(axis=1)\n",
    "low, high = np.percentile(f_ratio, [2.5, 97.5], axis = 1)\n",
    "plt.hist(f_ratio_mean, bins = 100);"
   ]
  },
  {
   "cell_type": "code",
   "execution_count": 711,
   "metadata": {},
   "outputs": [
    {
     "data": {
      "text/plain": [
       "array([   1,  331,  363,  578,  609,  693,  697,  701,  720,  734,  738,\n",
       "        904,  913,  920, 1067, 1076, 1088, 1112, 1129, 1313, 1345, 1556,\n",
       "       1587, 1588, 1719, 2369, 2855, 2896, 2944, 3016, 3281, 3291, 3374,\n",
       "       3599, 3646, 3664, 3929, 3939, 3990, 3999, 4072, 4087, 4103, 4315,\n",
       "       4330, 4395, 4517, 4545, 4548, 4551, 4980])"
      ]
     },
     "execution_count": 711,
     "metadata": {},
     "output_type": "execute_result"
    }
   ],
   "source": [
    "np.argwhere(high <= 0.2).squeeze()"
   ]
  },
  {
   "cell_type": "markdown",
   "metadata": {},
   "source": [
    "## Bayesian Fdr"
   ]
  },
  {
   "cell_type": "code",
   "execution_count": 712,
   "metadata": {},
   "outputs": [],
   "source": [
    "F1 = st.norm(0, sample['sd']).cdf(x1.reshape(-1, 1))\n",
    "F0 = st.norm(0, 1).cdf(x1.reshape(-1, 1))"
   ]
  },
  {
   "cell_type": "code",
   "execution_count": 725,
   "metadata": {},
   "outputs": [],
   "source": [
    "S = (sample['w'][:, 0] * (1 - F0)) + (sample['w'][:, 1] * (1 - F1))\n",
    "S_ratio = (1 - F0) / S"
   ]
  },
  {
   "cell_type": "code",
   "execution_count": 723,
   "metadata": {},
   "outputs": [
    {
     "data": {
      "image/png": "[encoded data removed]",
      "text/plain": [
       "<Figure size 432x288 with 1 Axes>"
      ]
     },
     "metadata": {
      "needs_background": "light"
     },
     "output_type": "display_data"
    }
   ],
   "source": [
    "low, high = np.percentile(S_ratio, [2.5, 97.5], axis = 1)\n",
    "plt.hist(S_ratio_mean, bins = 100);"
   ]
  },
  {
   "cell_type": "code",
   "execution_count": 733,
   "metadata": {},
   "outputs": [],
   "source": [
    "significant_args = np.argwhere((high <= 0.1)).squeeze()"
   ]
  },
  {
   "cell_type": "code",
   "execution_count": 748,
   "metadata": {},
   "outputs": [
    {
     "data": {
      "image/png": "[encoded data removed]",
      "text/plain": [
       "<Figure size 576x360 with 2 Axes>"
      ]
     },
     "metadata": {
      "needs_background": "light"
     },
     "output_type": "display_data"
    }
   ],
   "source": [
    "#vals, edges, _ = plt.hist(dti, bins=42, density=True, color ='dodgerblue', ec = 'k')\n",
    "f = plt.figure(figsize= (8, 5))\n",
    "gs = f.add_gridspec(30, 1)\n",
    "gs.update(wspace=0.01, hspace=0.1) # set the spacing between axes. \n",
    "ax1 = f.add_subplot(gs[:29, :], )\n",
    "ax1.hist(x1, bins=42, density=False, color ='dodgerblue', ec = 'w')\n",
    "ax2 = f.add_subplot(gs[29, :], sharex = ax1)\n",
    "ax2.yaxis.set_visible(False)\n",
    "ax1.xaxis.set_visible(False)\n",
    "\n",
    "sns.rugplot(x1[significant_args], height = 1.5, ax=ax2, color='r', lw=0.5)\n",
    "sns.rugplot(x1[significant_args], height = 1.5, ax=ax2, color='r', lw=0.5)\n",
    "sns.despine(bottom = True, ax = ax1, )\n",
    "sns.despine(ax = ax2)\n",
    "\n",
    "plt.savefig(\"../../../../sidravi1.github.io/assets/20200412_bayesian_sig.png\")"
   ]
  },
  {
   "cell_type": "markdown",
   "metadata": {},
   "source": [
    "### Empirical Bayes Large-Scale Testing"
   ]
  },
  {
   "cell_type": "code",
   "execution_count": null,
   "metadata": {},
   "outputs": [],
   "source": []
  },
  {
   "cell_type": "code",
   "execution_count": 16,
   "metadata": {},
   "outputs": [],
   "source": [
    "from statsmodels.formula.api import glm\n",
    "from patsy import dmatrix, balanced\n",
    "from sklearn.preprocessing import PolynomialFeatures\n",
    "import statsmodels.api as sm\n"
   ]
  },
  {
   "cell_type": "markdown",
   "metadata": {},
   "source": [
    "$$\n",
    "\\hat{Fdr}(z_0) = \\pi_0 S_0(z_0)/\\hat{S}(z_0)\n",
    "$$"
   ]
  },
  {
   "cell_type": "code",
   "execution_count": 17,
   "metadata": {},
   "outputs": [],
   "source": [
    "def S0(z):\n",
    "    return 1 - st.norm.cdf(z)\n",
    "\n",
    "def Shat_z0_pos(z_vals, z0):\n",
    "    return (z_vals.reshape(1, -1) > z0.reshape(-1, 1)).sum(axis = 1) / len(z_vals)\n",
    "\n",
    "def Shat_z0_neg(z_vals, z0):\n",
    "    return (z_vals.reshape(1, -1) < z0.reshape(-1, 1)).sum(axis = 1) / len(z_vals)\n"
   ]
  },
  {
   "cell_type": "code",
   "execution_count": 18,
   "metadata": {},
   "outputs": [],
   "source": [
    "def FDR_hat(z0, z_vals, left=True, pi0 = 0.95):\n",
    "    if left:\n",
    "        return pi0 * S0(-z0) / Shat_z0_neg(z_vals, z0)\n",
    "    else:\n",
    "        return pi0 * S0(z0) / Shat_z0_pos(z_vals, z0)"
   ]
  },
  {
   "cell_type": "code",
   "execution_count": 751,
   "metadata": {},
   "outputs": [
    {
     "data": {
      "image/png": "[encoded data removed]",
      "text/plain": [
       "<Figure size 432x288 with 1 Axes>"
      ]
     },
     "metadata": {
      "needs_background": "light"
     },
     "output_type": "display_data"
    }
   ],
   "source": [
    "vals, edges, _ = nop.hist(-trans_t, bins=45, ec = 'k', color ='w', density=True)"
   ]
  },
  {
   "cell_type": "code",
   "execution_count": 754,
   "metadata": {},
   "outputs": [],
   "source": [
    "vals, edges = np.histogram(-trans_t, bins=45, density=True)"
   ]
  },
  {
   "cell_type": "code",
   "execution_count": 755,
   "metadata": {},
   "outputs": [],
   "source": [
    "mid_points = (edges[0:-1] + edges[1:]) / 2"
   ]
  },
  {
   "cell_type": "code",
   "execution_count": 756,
   "metadata": {},
   "outputs": [
    {
     "data": {
      "text/html": [
       "<table class=\"simpletable\">\n",
       "<caption>Generalized Linear Model Regression Results</caption>\n",
       "<tr>\n",
       "  <th>Dep. Variable:</th>           <td>y</td>        <th>  No. Observations:  </th>  <td>    45</td> \n",
       "</tr>\n",
       "<tr>\n",
       "  <th>Model:</th>                  <td>GLM</td>       <th>  Df Residuals:      </th>  <td>    40</td> \n",
       "</tr>\n",
       "<tr>\n",
       "  <th>Model Family:</th>         <td>Poisson</td>     <th>  Df Model:          </th>  <td>     4</td> \n",
       "</tr>\n",
       "<tr>\n",
       "  <th>Link Function:</th>          <td>log</td>       <th>  Scale:             </th> <td>  1.0000</td>\n",
       "</tr>\n",
       "<tr>\n",
       "  <th>Method:</th>                <td>IRLS</td>       <th>  Log-Likelihood:    </th> <td> -9.9953</td>\n",
       "</tr>\n",
       "<tr>\n",
       "  <th>Date:</th>            <td>Sun, 12 Apr 2020</td> <th>  Deviance:          </th> <td>0.033609</td>\n",
       "</tr>\n",
       "<tr>\n",
       "  <th>Time:</th>                <td>23:39:33</td>     <th>  Pearson chi2:      </th>  <td>0.0341</td> \n",
       "</tr>\n",
       "<tr>\n",
       "  <th>No. Iterations:</th>          <td>8</td>        <th>                     </th>     <td> </td>   \n",
       "</tr>\n",
       "<tr>\n",
       "  <th>Covariance Type:</th>     <td>nonrobust</td>    <th>                     </th>     <td> </td>   \n",
       "</tr>\n",
       "</table>\n",
       "<table class=\"simpletable\">\n",
       "<tr>\n",
       "    <td></td>       <th>coef</th>     <th>std err</th>      <th>z</th>      <th>P>|z|</th>  <th>[0.025</th>    <th>0.975]</th>  \n",
       "</tr>\n",
       "<tr>\n",
       "  <th>const</th> <td>   -0.9883</td> <td>    0.606</td> <td>   -1.630</td> <td> 0.103</td> <td>   -2.176</td> <td>    0.200</td>\n",
       "</tr>\n",
       "<tr>\n",
       "  <th>x1</th>    <td>    0.0061</td> <td>    0.597</td> <td>    0.010</td> <td> 0.992</td> <td>   -1.163</td> <td>    1.175</td>\n",
       "</tr>\n",
       "<tr>\n",
       "  <th>x2</th>    <td>   -0.4733</td> <td>    0.428</td> <td>   -1.106</td> <td> 0.269</td> <td>   -1.312</td> <td>    0.365</td>\n",
       "</tr>\n",
       "<tr>\n",
       "  <th>x3</th>    <td>   -0.0020</td> <td>    0.095</td> <td>   -0.021</td> <td> 0.983</td> <td>   -0.188</td> <td>    0.184</td>\n",
       "</tr>\n",
       "<tr>\n",
       "  <th>x4</th>    <td>    0.0098</td> <td>    0.035</td> <td>    0.282</td> <td> 0.778</td> <td>   -0.058</td> <td>    0.078</td>\n",
       "</tr>\n",
       "</table>"
      ],
      "text/plain": [
       "<class 'statsmodels.iolib.summary.Summary'>\n",
       "\"\"\"\n",
       "                 Generalized Linear Model Regression Results                  \n",
       "==============================================================================\n",
       "Dep. Variable:                      y   No. Observations:                   45\n",
       "Model:                            GLM   Df Residuals:                       40\n",
       "Model Family:                 Poisson   Df Model:                            4\n",
       "Link Function:                    log   Scale:                          1.0000\n",
       "Method:                          IRLS   Log-Likelihood:                -9.9953\n",
       "Date:                Sun, 12 Apr 2020   Deviance:                     0.033609\n",
       "Time:                        23:39:33   Pearson chi2:                   0.0341\n",
       "No. Iterations:                     8                                         \n",
       "Covariance Type:            nonrobust                                         \n",
       "==============================================================================\n",
       "                 coef    std err          z      P>|z|      [0.025      0.975]\n",
       "------------------------------------------------------------------------------\n",
       "const         -0.9883      0.606     -1.630      0.103      -2.176       0.200\n",
       "x1             0.0061      0.597      0.010      0.992      -1.163       1.175\n",
       "x2            -0.4733      0.428     -1.106      0.269      -1.312       0.365\n",
       "x3            -0.0020      0.095     -0.021      0.983      -0.188       0.184\n",
       "x4             0.0098      0.035      0.282      0.778      -0.058       0.078\n",
       "==============================================================================\n",
       "\"\"\""
      ]
     },
     "execution_count": 756,
     "metadata": {},
     "output_type": "execute_result"
    }
   ],
   "source": [
    "X = PolynomialFeatures(degree=4).fit_transform(mid_points.reshape(-1, 1)) \n",
    "y = vals\n",
    "\n",
    "m = sm.GLM(y, X, family=sm.families.Poisson(), ).fit()\n",
    "m.summary()"
   ]
  },
  {
   "cell_type": "code",
   "execution_count": 757,
   "metadata": {},
   "outputs": [],
   "source": [
    "y_hat = m.predict()"
   ]
  },
  {
   "cell_type": "code",
   "execution_count": 767,
   "metadata": {},
   "outputs": [
    {
     "data": {
      "image/png": "[encoded data removed]",
      "text/plain": [
       "<Figure size 576x360 with 1 Axes>"
      ]
     },
     "metadata": {
      "needs_background": "light"
     },
     "output_type": "display_data"
    }
   ],
   "source": [
    "f = plt.figure(figsize= (8, 5))\n",
    "\n",
    "vals, edges, _ = plt.hist(trans_t, bins=40, ec ='w', color='dodgerblue', density=True)\n",
    "plt.plot(mid_points, y_hat, color='darkorange')\n",
    "plt.grid()\n",
    "sns.despine(left = True)\n",
    "\n",
    "plt.savefig(\"../../../../sidravi1.github.io/assets/20200412_poisson_fitted.png\")\n"
   ]
  },
  {
   "cell_type": "code",
   "execution_count": 24,
   "metadata": {},
   "outputs": [],
   "source": [
    "def fhat(z, m):\n",
    "    n_dims = m.params.shape[0]\n",
    "    poly_vals = PolynomialFeatures(degree=(n_dims - 1)).fit_transform(z.reshape(-1, 1))\n",
    "    \n",
    "    return np.exp(poly_vals.squeeze() @ m.params)\n",
    "\n",
    "def fdr_hat(z, m, pi0 = 0.9):\n",
    "    return pi0 * st.norm.pdf(z) / fhat(z, m)"
   ]
  },
  {
   "cell_type": "code",
   "execution_count": 25,
   "metadata": {},
   "outputs": [],
   "source": [
    "def fdr_hat(z, m, pi0 = 0.9):\n",
    "    return pi0 * st.norm.pdf(z) / fhat(z, m)"
   ]
  },
  {
   "cell_type": "code",
   "execution_count": 798,
   "metadata": {},
   "outputs": [
    {
     "data": {
      "image/png": "[encoded data removed]",
      "text/plain": [
       "<Figure size 576x360 with 1 Axes>"
      ]
     },
     "metadata": {
      "needs_background": "light"
     },
     "output_type": "display_data"
    }
   ],
   "source": [
    "f = plt.figure(figsize= (8, 5))\n",
    "\n",
    "pi0 = 0.984\n",
    "\n",
    "z0 = np.linspace(-5, 5, 100)\n",
    "z0_pos = z0[z0 >= 0]\n",
    "z0_neg = z0[z0 <= 0]\n",
    "\n",
    "plt.plot(z0, fdr_hat(z0, m, pi0 = pi0), color='dodgerblue', label = 'local fdr')\n",
    "\n",
    "plt.plot(z0_pos, FDR_hat(z0_pos, z_vals, left=False, pi0 = pi0), \"--\", lw = 1, color='darkred', label ='right tail Fdr')\n",
    "plt.plot(z0_neg, FDR_hat(z0_neg, z_vals, left=True, pi0 = pi0).squeeze(), \"--\", lw = 1, color='darkgreen', label ='left tail Fdr')\n",
    "plt.axvline(x=0, ls = \":\", lw= 0.5, color='k')\n",
    "plt.axhline(y=0.2, ls = \":\", lw= 2, color='k')\n",
    "#plt.grid()\n",
    "plt.legend()\n",
    "\n",
    "sns.despine(left=True)\n",
    "\n",
    "plt.savefig(\"../../../../sidravi1.github.io/assets/20200412_fdr_vs_FDR.png\")"
   ]
  },
  {
   "cell_type": "code",
   "execution_count": 799,
   "metadata": {},
   "outputs": [],
   "source": [
    "def fdr_bayes(sample, z):\n",
    "    f1 = st.norm(0, sample['sd']).pdf(z.reshape(-1, 1))\n",
    "    f0 = st.norm(0, 1).pdf(z.reshape(-1, 1))\n",
    "    \n",
    "    f = (sample['w'][:, 0] * f0) + (sample['w'][:, 1] * f1)\n",
    "    \n",
    "    return sample['w'][:, 0] * f0/"
   ]
  },
  {
   "cell_type": "code",
   "execution_count": 810,
   "metadata": {},
   "outputs": [
    {
     "data": {
      "image/png": "[encoded data removed]",
      "text/plain": [
       "<Figure size 576x360 with 1 Axes>"
      ]
     },
     "metadata": {
      "needs_background": "light"
     },
     "output_type": "display_data"
    }
   ],
   "source": [
    "f = plt.figure(figsize= (8, 5))\n",
    "\n",
    "pi0 = 0.984\n",
    "\n",
    "z0 = np.linspace(-5, 5, 100)\n",
    "z0_pos = z0[z0 >= 0]\n",
    "z0_neg = z0[z0 <= 0]\n",
    "\n",
    "plt.plot(z0, fdr_hat(z0, m, pi0 = pi0), color='dodgerblue', label = 'local fdr')\n",
    "\n",
    "fdr_b = fdr_bayes(sample, z0)\n",
    "mean_fdr_bayes = fdr_b.mean(axis=1)\n",
    "low, high = np.percentile(fdr_b, [2.5, 97.5], axis = 1)\n",
    "\n",
    "plt.plot(z0, mean_fdr_bayes, color='darkorange', label = 'local fdr bayes')\n",
    "plt.fill_between(z0, low, high, color='darkorange', alpha = 0.2)\n",
    "\n",
    "plt.plot(z0_pos, FDR_hat(z0_pos, z_vals, left=False, pi0 = pi0), \"--\", lw = 1, color='darkred', label ='right tail Fdr')\n",
    "plt.plot(z0_neg, FDR_hat(z0_neg, z_vals, left=True, pi0 = pi0).squeeze(), \"--\", lw = 1, color='darkgreen', label ='left tail Fdr')\n",
    "plt.axvline(x=0, ls = \":\", lw= 0.5, color='k')\n",
    "plt.axhline(y=0.2, ls = \":\", lw= 2, color='k')\n",
    "#plt.grid()\n",
    "plt.legend()\n",
    "\n",
    "sns.despine(left=True)\n",
    "\n",
    "plt.savefig(\"../../../../sidravi1.github.io/assets/20200412_fdr_vs_FDR_vs_bayes.png\")"
   ]
  },
  {
   "cell_type": "code",
   "execution_count": null,
   "metadata": {},
   "outputs": [],
   "source": [
    "fdr_b = fdr_bayes(sample, z0)\n",
    "mean_fdr_bayes = fdr_b.mean(axis=1)\n",
    "low, high = np.percentile(fdr_b, [2.5, 97.5], axis = 1)\n",
    "\n",
    "plt.plot(z0, mean_fdr_bayes, color='red', label = 'local fdr bayes')\n",
    "plt.fill_between(z0, low, high, color='pink', label = 'local fdr bayes')"
   ]
  },
  {
   "cell_type": "code",
   "execution_count": 27,
   "metadata": {},
   "outputs": [
    {
     "data": {
      "text/html": [
       "<table class=\"simpletable\">\n",
       "<caption>Generalized Linear Model Regression Results</caption>\n",
       "<tr>\n",
       "  <th>Dep. Variable:</th>           <td>y</td>        <th>  No. Observations:  </th>  <td>    47</td> \n",
       "</tr>\n",
       "<tr>\n",
       "  <th>Model:</th>                  <td>GLM</td>       <th>  Df Residuals:      </th>  <td>    42</td> \n",
       "</tr>\n",
       "<tr>\n",
       "  <th>Model Family:</th>         <td>Poisson</td>     <th>  Df Model:          </th>  <td>     4</td> \n",
       "</tr>\n",
       "<tr>\n",
       "  <th>Link Function:</th>          <td>log</td>       <th>  Scale:             </th> <td>  1.0000</td>\n",
       "</tr>\n",
       "<tr>\n",
       "  <th>Method:</th>                <td>IRLS</td>       <th>  Log-Likelihood:    </th> <td> -152.47</td>\n",
       "</tr>\n",
       "<tr>\n",
       "  <th>Date:</th>            <td>Thu, 19 Mar 2020</td> <th>  Deviance:          </th> <td>  57.109</td>\n",
       "</tr>\n",
       "<tr>\n",
       "  <th>Time:</th>                <td>21:14:25</td>     <th>  Pearson chi2:      </th>  <td>  54.7</td> \n",
       "</tr>\n",
       "<tr>\n",
       "  <th>No. Iterations:</th>          <td>8</td>        <th>                     </th>     <td> </td>   \n",
       "</tr>\n",
       "<tr>\n",
       "  <th>Covariance Type:</th>     <td>nonrobust</td>    <th>                     </th>     <td> </td>   \n",
       "</tr>\n",
       "</table>\n",
       "<table class=\"simpletable\">\n",
       "<tr>\n",
       "    <td></td>       <th>coef</th>     <th>std err</th>      <th>z</th>      <th>P>|z|</th>  <th>[0.025</th>    <th>0.975]</th>  \n",
       "</tr>\n",
       "<tr>\n",
       "  <th>const</th> <td>    6.1365</td> <td>    0.017</td> <td>  364.625</td> <td> 0.000</td> <td>    6.104</td> <td>    6.170</td>\n",
       "</tr>\n",
       "<tr>\n",
       "  <th>x1</th>    <td>    0.0064</td> <td>    0.017</td> <td>    0.385</td> <td> 0.700</td> <td>   -0.026</td> <td>    0.039</td>\n",
       "</tr>\n",
       "<tr>\n",
       "  <th>x2</th>    <td>   -0.4735</td> <td>    0.012</td> <td>  -39.835</td> <td> 0.000</td> <td>   -0.497</td> <td>   -0.450</td>\n",
       "</tr>\n",
       "<tr>\n",
       "  <th>x3</th>    <td>   -0.0022</td> <td>    0.003</td> <td>   -0.829</td> <td> 0.407</td> <td>   -0.007</td> <td>    0.003</td>\n",
       "</tr>\n",
       "<tr>\n",
       "  <th>x4</th>    <td>    0.0098</td> <td>    0.001</td> <td>   10.158</td> <td> 0.000</td> <td>    0.008</td> <td>    0.012</td>\n",
       "</tr>\n",
       "</table>"
      ],
      "text/plain": [
       "<class 'statsmodels.iolib.summary.Summary'>\n",
       "\"\"\"\n",
       "                 Generalized Linear Model Regression Results                  \n",
       "==============================================================================\n",
       "Dep. Variable:                      y   No. Observations:                   47\n",
       "Model:                            GLM   Df Residuals:                       42\n",
       "Model Family:                 Poisson   Df Model:                            4\n",
       "Link Function:                    log   Scale:                          1.0000\n",
       "Method:                          IRLS   Log-Likelihood:                -152.47\n",
       "Date:                Thu, 19 Mar 2020   Deviance:                       57.109\n",
       "Time:                        21:14:25   Pearson chi2:                     54.7\n",
       "No. Iterations:                     8                                         \n",
       "Covariance Type:            nonrobust                                         \n",
       "==============================================================================\n",
       "                 coef    std err          z      P>|z|      [0.025      0.975]\n",
       "------------------------------------------------------------------------------\n",
       "const          6.1365      0.017    364.625      0.000       6.104       6.170\n",
       "x1             0.0064      0.017      0.385      0.700      -0.026       0.039\n",
       "x2            -0.4735      0.012    -39.835      0.000      -0.497      -0.450\n",
       "x3            -0.0022      0.003     -0.829      0.407      -0.007       0.003\n",
       "x4             0.0098      0.001     10.158      0.000       0.008       0.012\n",
       "==============================================================================\n",
       "\"\"\""
      ]
     },
     "execution_count": 27,
     "metadata": {},
     "output_type": "execute_result"
    },
    {
     "data": {
      "image/png": "[encoded data removed]",
      "text/plain": [
       "<Figure size 432x288 with 1 Axes>"
      ]
     },
     "metadata": {
      "needs_background": "light"
     },
     "output_type": "display_data"
    }
   ],
   "source": [
    "vals, edges, _ = plt.hist(-trans_t, bins=47, ec = 'k', color ='w')\n",
    "mid_points = (edges[:-1] + edges[1:])/2\n",
    "\n",
    "X = PolynomialFeatures(degree=4).fit_transform(mid_points.reshape(-1, 1)) \n",
    "y = vals\n",
    "\n",
    "m = sm.GLM(y, X, family=sm.families.Poisson(), ).fit()\n",
    "m.summary()"
   ]
  },
  {
   "cell_type": "code",
   "execution_count": 28,
   "metadata": {},
   "outputs": [],
   "source": [
    "log_val = np.log(vals[vals > 0])"
   ]
  },
  {
   "cell_type": "code",
   "execution_count": 29,
   "metadata": {},
   "outputs": [
    {
     "data": {
      "text/plain": [
       "(-1, 7)"
      ]
     },
     "execution_count": 29,
     "metadata": {},
     "output_type": "execute_result"
    },
    {
     "data": {
      "image/png": "[encoded data removed]",
      "text/plain": [
       "<Figure size 432x288 with 1 Axes>"
      ]
     },
     "metadata": {
      "needs_background": "light"
     },
     "output_type": "display_data"
    }
   ],
   "source": [
    "plt.plot(mid_points[vals > 0], log_val, \".\", color='dodgerblue')\n",
    "plt.plot(z0, np.log(fhat(z0, m)), \"k\")\n",
    "plt.plot(z0, -0.5 * (z0**2) + 6.2, \":r\")\n",
    "plt.ylim(-1, 7)"
   ]
  },
  {
   "cell_type": "markdown",
   "metadata": {},
   "source": [
    "## Null distribution through permutation"
   ]
  },
  {
   "cell_type": "code",
   "execution_count": 135,
   "metadata": {},
   "outputs": [],
   "source": [
    "prostrate_permuted = prostrate.copy()\n",
    "trans_t = []\n",
    "for i in range(2):\n",
    "    prostrate_permuted.arm_type = np.random.permutation(prostrate_permuted.arm_type)\n",
    "\n",
    "    ttest_res = dict()\n",
    "    p_val = dict()\n",
    "    for gene, df in prostrate_permuted.groupby('gene'):\n",
    "        ttest_res[gene], p_val[gene] = st.ttest_ind(df.loc[df.arm_type == 'control', 'value'], df.loc[df.arm_type == 'cancer', 'value'])\n",
    "\n",
    "    trans_t.append(st.norm.ppf(st.t(df = 100).cdf(list(ttest_res.values()))))"
   ]
  },
  {
   "cell_type": "code",
   "execution_count": 136,
   "metadata": {},
   "outputs": [
    {
     "data": {
      "text/plain": [
       "(-0.010338934287814138, 1.0037896102739412)"
      ]
     },
     "execution_count": 136,
     "metadata": {},
     "output_type": "execute_result"
    }
   ],
   "source": [
    "st.norm.fit(np.array(trans_t).ravel())"
   ]
  },
  {
   "cell_type": "markdown",
   "metadata": {},
   "source": [
    "### Using the police data"
   ]
  },
  {
   "cell_type": "code",
   "execution_count": 32,
   "metadata": {},
   "outputs": [],
   "source": [
    "police = pd.read_csv(\"https://web.stanford.edu/~hastie/CASI_files/DATA/police.txt\", header=None).values.squeeze()"
   ]
  },
  {
   "cell_type": "code",
   "execution_count": 195,
   "metadata": {},
   "outputs": [
    {
     "data": {
      "image/png": "[encoded data removed]",
      "text/plain": [
       "<Figure size 432x288 with 1 Axes>"
      ]
     },
     "metadata": {
      "needs_background": "light"
     },
     "output_type": "display_data"
    }
   ],
   "source": [
    "plt.hist(police, bins = 86, color='dodgerblue', ec='k')\n",
    "plt.xlim(-6, 6)\n",
    "plt.ylim(-0, 200)\n",
    "x = np.linspace(-6, 6)\n",
    "plt.plot(x, st.norm.pdf(x)*550, ':k', lw=1)\n",
    "mu, sd = st.norm.fit(police)\n",
    "plt.plot(x, st.norm(0.1, 1.4).pdf(x)*550, 'r', lw=1)\n",
    "sns.despine()"
   ]
  },
  {
   "cell_type": "markdown",
   "metadata": {},
   "source": [
    "# 15.6 Relevance"
   ]
  },
  {
   "cell_type": "code",
   "execution_count": 198,
   "metadata": {},
   "outputs": [],
   "source": [
    "dti = pd.read_csv(\"https://web.stanford.edu/~hastie/CASI_files/DATA/DTI.txt\").values.squeeze()"
   ]
  },
  {
   "cell_type": "code",
   "execution_count": 221,
   "metadata": {},
   "outputs": [
    {
     "data": {
      "image/png": "[encoded data removed]",
      "text/plain": [
       "<Figure size 432x288 with 1 Axes>"
      ]
     },
     "metadata": {
      "needs_background": "light"
     },
     "output_type": "display_data"
    }
   ],
   "source": [
    "vals, edges, _ = plt.hist(dti, bins=42, density=True, color ='dodgerblue', ec = 'k')\n",
    "mid_points = (edges[:-1] + edges[1:])/2\n",
    "sns.despine()"
   ]
  },
  {
   "cell_type": "code",
   "execution_count": 249,
   "metadata": {},
   "outputs": [
    {
     "name": "stdout",
     "output_type": "stream",
     "text": [
      "3 0.1019603420119841\n",
      "4 0.03386212074400442\n",
      "5 -0.014979303330644534\n",
      "6 -0.009133052697130366\n",
      "7 -0.01256867380674562\n",
      "8 -0.010825714772651485\n",
      "9 -0.010292243965352603\n"
     ]
    }
   ],
   "source": [
    "for deg in range(3, 10):\n",
    "    X = PolynomialFeatures(degree=deg).fit_transform(mid_points.reshape(-1, 1)) \n",
    "    y = vals\n",
    "\n",
    "    m = sm.GLM(y, X, family=sm.families.Poisson(), ).fit()\n",
    "    print(deg, m.resid_deviance.sum())"
   ]
  },
  {
   "cell_type": "code",
   "execution_count": 296,
   "metadata": {},
   "outputs": [],
   "source": [
    "deg = 5\n",
    "\n",
    "X = PolynomialFeatures(degree=deg).fit_transform(mid_points.reshape(-1, 1)) \n",
    "y = vals\n",
    "\n",
    "m = sm.GLM(y, X, family=sm.families.Poisson(), ).fit()\n",
    "y_hat = m.predict()\n",
    "\n",
    "X_pred = PolynomialFeatures(degree=deg).fit_transform(dti.reshape(-1, 1)) \n",
    "\n",
    "fdr = 0.984 * st.norm(-0.12, 1.06).pdf(dti)/m.predict(X_pred)\n",
    "fdr[fdr <= 0.2].shape, m.resid_deviance.sum()\n",
    "\n"
   ]
  },
  {
   "cell_type": "code",
   "execution_count": 309,
   "metadata": {},
   "outputs": [
    {
     "data": {
      "text/plain": [
       "3.172634526905381"
      ]
     },
     "execution_count": 309,
     "metadata": {},
     "output_type": "execute_result"
    }
   ],
   "source": [
    "zvals = np.linspace(-4, 4, 5000)\n",
    "Xtest = PolynomialFeatures(degree=deg).fit_transform(zvals.reshape(-1, 1)) \n",
    "fdr_base = 0.984 * st.norm(-0.12, 1.06).pdf(zvals)/m.predict(Xtest)\n",
    "zvals[fdr_base <= 0.2].min()"
   ]
  },
  {
   "cell_type": "code",
   "execution_count": 346,
   "metadata": {},
   "outputs": [
    {
     "data": {
      "image/png": "[encoded data removed]",
      "text/plain": [
       "<Figure size 576x360 with 2 Axes>"
      ]
     },
     "metadata": {
      "needs_background": "light"
     },
     "output_type": "display_data"
    }
   ],
   "source": [
    "#vals, edges, _ = plt.hist(dti, bins=42, density=True, color ='dodgerblue', ec = 'k')\n",
    "f = plt.figure(figsize= (8, 5))\n",
    "gs = f.add_gridspec(30, 1)\n",
    "gs.update(wspace=0.01, hspace=0.1) # set the spacing between axes. \n",
    "ax1 = f.add_subplot(gs[:29, :], )\n",
    "ax1.hist(dti, bins=42, density=False, color ='dodgerblue', ec = 'k')\n",
    "ax1.axvline(3.17, color='r', lw=1, ymax = 0.2)\n",
    "ax2 = f.add_subplot(gs[29, :], sharex = ax1)\n",
    "ax2.yaxis.set_visible(False)\n",
    "ax1.xaxis.set_visible(False)\n",
    "ax2.set_xticks(np.append(ax2.get_xticks(), 3.17))\n",
    "ax2.get_xticklabels()[7].set_color(\"red\")\n",
    "\n",
    "sns.rugplot(dti[fdr <= 0.2], height = 1.5, ax=ax2, color='r', lw=0.5)\n",
    "sns.despine(bottom = True, ax = ax1, )\n",
    "sns.despine(ax = ax2)"
   ]
  },
  {
   "cell_type": "code",
   "execution_count": null,
   "metadata": {},
   "outputs": [],
   "source": []
  },
  {
   "cell_type": "code",
   "execution_count": 33,
   "metadata": {},
   "outputs": [],
   "source": [
    "police_central = police[(police > -1.8) & (police < 2.0)]"
   ]
  },
  {
   "cell_type": "code",
   "execution_count": 34,
   "metadata": {},
   "outputs": [],
   "source": [
    "_ , _, mu, sd = st.truncnorm.fit(police_central)"
   ]
  },
  {
   "cell_type": "code",
   "execution_count": 35,
   "metadata": {},
   "outputs": [
    {
     "data": {
      "text/plain": [
       "(0.0024914441235413466, 1.123732933567277)"
      ]
     },
     "execution_count": 35,
     "metadata": {},
     "output_type": "execute_result"
    }
   ],
   "source": [
    "#mu, sd = st.truncnorm(-1.8, 2).fit(police_central)\n",
    "probs = st.norm(mu, sd).pdf(np.linspace(-4, 4))\n",
    "mu, sd"
   ]
  },
  {
   "cell_type": "code",
   "execution_count": 36,
   "metadata": {},
   "outputs": [
    {
     "data": {
      "text/plain": [
       "[<matplotlib.lines.Line2D at 0x1c250e09d0>]"
      ]
     },
     "execution_count": 36,
     "metadata": {},
     "output_type": "execute_result"
    },
    {
     "data": {
      "image/png": "[encoded data removed]",
      "text/plain": [
       "<Figure size 432x288 with 1 Axes>"
      ]
     },
     "metadata": {
      "needs_background": "light"
     },
     "output_type": "display_data"
    }
   ],
   "source": [
    "plt.hist(police_central, density=True)\n",
    "plt.plot(np.linspace(-4, 4), probs)\n"
   ]
  },
  {
   "cell_type": "code",
   "execution_count": 88,
   "metadata": {},
   "outputs": [],
   "source": [
    "from statsmodels.base.model import GenericLikelihoodModel\n",
    "\n",
    "def logp(X, mu, sig, pi0, minZ, maxZ):\n",
    "    \n",
    "    N = X.shape[0]\n",
    "    z0 = X[(X >= -minZ) & (X <= maxZ)]\n",
    "    N0 = z0.shape[0]\n",
    "    \n",
    "    norm_dist = st.norm(mu, sig)\n",
    "    P = norm_dist.cdf(maxZ) - norm_dist.cdf(minZ)\n",
    "    \n",
    "    theta = pi0 * P\n",
    "    bin_ll = st.binom.logpmf(N0, N, theta)\n",
    "    \n",
    "    norm_dist = (norm_dist.logpdf(z0) - np.log(P)).sum()\n",
    "    \n",
    "    ll = bin_ll + norm_dist\n",
    "    \n",
    "    return ll\n",
    "\n",
    "class Locfdr(GenericLikelihoodModel):\n",
    "    def __init__(self, endog, exog, **kwds):\n",
    "        super(Locfdr, self).__init__(endog, exog, **kwds)\n",
    "\n",
    "    def nloglikeobs(self, params):\n",
    "        mu = params[0]\n",
    "        sig = np.exp(params[1])\n",
    "        pi0 = params[2]\n",
    "        minZ = np.exp(params[3])\n",
    "        maxZ = np.exp(params[4])\n",
    "        \n",
    "        ll = logp(self.endog, mu, sig, pi0, minZ, maxZ)\n",
    "        return -ll\n",
    "\n",
    "    def fit(self, start_params=None, maxiter=10000, maxfun=5000, **kwds):\n",
    "        \n",
    "        if start_params == None:\n",
    "            # Reasonable starting values\n",
    "            start_params = np.array([0, 2.0, 0.98, -2, 2])\n",
    "        return super(Locfdr, self).fit(start_params=start_params,\n",
    "                                     maxiter=maxiter, maxfun=maxfun,\n",
    "                                     **kwds)"
   ]
  },
  {
   "cell_type": "code",
   "execution_count": 125,
   "metadata": {},
   "outputs": [],
   "source": [
    "def logp_pm(X):\n",
    "    \n",
    "    N = X.shape[0]\n",
    "    z0 = X[(X >= -minZ) & (X <= maxZ)]\n",
    "    N0 = z0.shape[0]\n",
    "    \n",
    "    norm_dist = pm.distributions.Normal.dist(mu, sig)\n",
    "    P = tt.exp(norm_dist.logcdf(maxZ)) - tt.exp(norm_dist.logcdf(minZ))\n",
    "    \n",
    "    theta = pi0 * P\n",
    "    bin_ll = pm.distributions.Binomial.dist(N, theta).logp(N0)\n",
    "    \n",
    "    norm_dist = (norm_dist.logp(z0) - tt.log(P)).sum()\n",
    "    \n",
    "    ll = bin_ll + norm_dist\n",
    "    \n",
    "    return ll"
   ]
  },
  {
   "cell_type": "code",
   "execution_count": 126,
   "metadata": {},
   "outputs": [
    {
     "name": "stderr",
     "output_type": "stream",
     "text": [
      "/Users/sidravi/anaconda3/envs/experiments/lib/python3.7/site-packages/theano/tensor/subtensor.py:2197: FutureWarning: Using a non-tuple sequence for multidimensional indexing is deprecated; use `arr[tuple(seq)]` instead of `arr[seq]`. In the future this will be interpreted as an array index, `arr[np.array(seq)]`, which will result either in an error or a different result.\n",
      "  rval = inputs[0].__getitem__(inputs[1:])\n",
      "/Users/sidravi/anaconda3/envs/experiments/lib/python3.7/site-packages/theano/tensor/subtensor.py:2197: FutureWarning: Using a non-tuple sequence for multidimensional indexing is deprecated; use `arr[tuple(seq)]` instead of `arr[seq]`. In the future this will be interpreted as an array index, `arr[np.array(seq)]`, which will result either in an error or a different result.\n",
      "  rval = inputs[0].__getitem__(inputs[1:])\n"
     ]
    }
   ],
   "source": [
    "with pm.Model() as fdrLocal:\n",
    "    mu = pm.Normal('mu', 0, 2)\n",
    "    sig = pm.HalfNormal('sig', 1)\n",
    "    pi0 = pm.Beta('pi0', 5, 1)\n",
    "    \n",
    "    minZ = pm.Uniform('minZ', np.min(police), 0)\n",
    "    maxZ = pm.Uniform('maxZ', 0, np.max(police))\n",
    "    \n",
    "    obs = pm.DensityDist('obs', logp_pm, observed = police)\n",
    "    \n",
    "    "
   ]
  },
  {
   "cell_type": "code",
   "execution_count": 131,
   "metadata": {},
   "outputs": [
    {
     "name": "stderr",
     "output_type": "stream",
     "text": [
      "Auto-assigning NUTS sampler...\n",
      "Initializing NUTS using jitter+adapt_diag...\n",
      "/Users/sidravi/anaconda3/envs/experiments/lib/python3.7/site-packages/theano/tensor/subtensor.py:2197: FutureWarning: Using a non-tuple sequence for multidimensional indexing is deprecated; use `arr[tuple(seq)]` instead of `arr[seq]`. In the future this will be interpreted as an array index, `arr[np.array(seq)]`, which will result either in an error or a different result.\n",
      "  rval = inputs[0].__getitem__(inputs[1:])\n",
      "Multiprocess sampling (4 chains in 4 jobs)\n",
      "NUTS: [maxZ, minZ, pi0, sig, mu]\n",
      "Sampling 4 chains: 100%|██████████| 10000/10000 [08:44<00:00, 19.06draws/s] \n",
      "The chain reached the maximum tree depth. Increase max_treedepth, increase target_accept or reparameterize.\n",
      "The chain reached the maximum tree depth. Increase max_treedepth, increase target_accept or reparameterize.\n",
      "The chain reached the maximum tree depth. Increase max_treedepth, increase target_accept or reparameterize.\n",
      "The chain reached the maximum tree depth. Increase max_treedepth, increase target_accept or reparameterize.\n",
      "The gelman-rubin statistic is larger than 1.4 for some parameters. The sampler did not converge.\n",
      "The estimated number of effective samples is smaller than 200 for some parameters.\n"
     ]
    }
   ],
   "source": [
    "trace = pm.sample(500, tune=2000, model=fdrLocal, target_accept = 0.99)"
   ]
  },
  {
   "cell_type": "code",
   "execution_count": 132,
   "metadata": {},
   "outputs": [
    {
     "name": "stderr",
     "output_type": "stream",
     "text": [
      "/Users/sidravi/anaconda3/envs/experiments/lib/python3.7/site-packages/pymc3/stats.py:991: FutureWarning: The join_axes-keyword is deprecated. Use .reindex or .reindex_like on the result to achieve the same functionality.\n",
      "  axis=1, join_axes=[dforg.index])\n"
     ]
    },
    {
     "data": {
      "text/html": [
       "<div>\n",
       "<style scoped>\n",
       "    .dataframe tbody tr th:only-of-type {\n",
       "        vertical-align: middle;\n",
       "    }\n",
       "\n",
       "    .dataframe tbody tr th {\n",
       "        vertical-align: top;\n",
       "    }\n",
       "\n",
       "    .dataframe thead th {\n",
       "        text-align: right;\n",
       "    }\n",
       "</style>\n",
       "<table border=\"1\" class=\"dataframe\">\n",
       "  <thead>\n",
       "    <tr style=\"text-align: right;\">\n",
       "      <th></th>\n",
       "      <th>mean</th>\n",
       "      <th>sd</th>\n",
       "      <th>mc_error</th>\n",
       "      <th>hpd_2.5</th>\n",
       "      <th>hpd_97.5</th>\n",
       "      <th>n_eff</th>\n",
       "      <th>Rhat</th>\n",
       "    </tr>\n",
       "  </thead>\n",
       "  <tbody>\n",
       "    <tr>\n",
       "      <td>mu</td>\n",
       "      <td>3.852755</td>\n",
       "      <td>2.228938</td>\n",
       "      <td>0.222894</td>\n",
       "      <td>0.586008</td>\n",
       "      <td>6.853851</td>\n",
       "      <td>2.002002</td>\n",
       "      <td>241620.918979</td>\n",
       "    </tr>\n",
       "    <tr>\n",
       "      <td>sig</td>\n",
       "      <td>0.558169</td>\n",
       "      <td>0.371447</td>\n",
       "      <td>0.037145</td>\n",
       "      <td>0.108971</td>\n",
       "      <td>0.989025</td>\n",
       "      <td>2.002002</td>\n",
       "      <td>3113.490473</td>\n",
       "    </tr>\n",
       "    <tr>\n",
       "      <td>pi0</td>\n",
       "      <td>0.710945</td>\n",
       "      <td>0.411225</td>\n",
       "      <td>0.041123</td>\n",
       "      <td>0.000989</td>\n",
       "      <td>0.999556</td>\n",
       "      <td>2.002002</td>\n",
       "      <td>10472.590489</td>\n",
       "    </tr>\n",
       "    <tr>\n",
       "      <td>minZ</td>\n",
       "      <td>-3.566344</td>\n",
       "      <td>1.716595</td>\n",
       "      <td>0.171660</td>\n",
       "      <td>-5.971552</td>\n",
       "      <td>-1.143474</td>\n",
       "      <td>2.002003</td>\n",
       "      <td>1529.095342</td>\n",
       "    </tr>\n",
       "    <tr>\n",
       "      <td>maxZ</td>\n",
       "      <td>3.773872</td>\n",
       "      <td>1.895547</td>\n",
       "      <td>0.189555</td>\n",
       "      <td>1.157189</td>\n",
       "      <td>6.511518</td>\n",
       "      <td>2.002004</td>\n",
       "      <td>1240.466418</td>\n",
       "    </tr>\n",
       "  </tbody>\n",
       "</table>\n",
       "</div>"
      ],
      "text/plain": [
       "          mean        sd  mc_error   hpd_2.5  hpd_97.5     n_eff  \\\n",
       "mu    3.852755  2.228938  0.222894  0.586008  6.853851  2.002002   \n",
       "sig   0.558169  0.371447  0.037145  0.108971  0.989025  2.002002   \n",
       "pi0   0.710945  0.411225  0.041123  0.000989  0.999556  2.002002   \n",
       "minZ -3.566344  1.716595  0.171660 -5.971552 -1.143474  2.002003   \n",
       "maxZ  3.773872  1.895547  0.189555  1.157189  6.511518  2.002004   \n",
       "\n",
       "               Rhat  \n",
       "mu    241620.918979  \n",
       "sig     3113.490473  \n",
       "pi0    10472.590489  \n",
       "minZ    1529.095342  \n",
       "maxZ    1240.466418  "
      ]
     },
     "execution_count": 132,
     "metadata": {},
     "output_type": "execute_result"
    }
   ],
   "source": [
    "pm.summary(trace)"
   ]
  },
  {
   "cell_type": "code",
   "execution_count": 133,
   "metadata": {},
   "outputs": [
    {
     "data": {
      "text/plain": [
       "2.6881171418161356e+43"
      ]
     },
     "execution_count": 133,
     "metadata": {},
     "output_type": "execute_result"
    }
   ],
   "source": [
    "np.exp(100)"
   ]
  },
  {
   "cell_type": "code",
   "execution_count": 89,
   "metadata": {},
   "outputs": [
    {
     "name": "stdout",
     "output_type": "stream",
     "text": [
      "Optimization terminated successfully.\n",
      "         Current function value: -2.417791\n",
      "         Iterations: 478\n",
      "         Function evaluations: 814\n"
     ]
    },
    {
     "name": "stderr",
     "output_type": "stream",
     "text": [
      "/Users/sidravi/anaconda3/envs/experiments/lib/python3.7/site-packages/statsmodels/base/model.py:492: HessianInversionWarning: Inverting hessian failed, no bse or cov_params available\n",
      "  'available', HessianInversionWarning)\n"
     ]
    }
   ],
   "source": [
    "mod = Locfdr(police, np.ones_like(police))\n",
    "res = mod.fit()"
   ]
  },
  {
   "cell_type": "code",
   "execution_count": 90,
   "metadata": {},
   "outputs": [
    {
     "data": {
      "text/html": [
       "<table class=\"simpletable\">\n",
       "<caption>Locfdr Results</caption>\n",
       "<tr>\n",
       "  <th>Dep. Variable:</th>             <td>y</td>         <th>  Log-Likelihood:    </th>  <td>  6646.5</td> \n",
       "</tr>\n",
       "<tr>\n",
       "  <th>Model:</th>                  <td>Locfdr</td>       <th>  AIC:               </th> <td>-1.329e+04</td>\n",
       "</tr>\n",
       "<tr>\n",
       "  <th>Method:</th>           <td>Maximum Likelihood</td> <th>  BIC:               </th> <td>-1.329e+04</td>\n",
       "</tr>\n",
       "<tr>\n",
       "  <th>Date:</th>              <td>Thu, 19 Mar 2020</td>  <th>                     </th>      <td> </td>    \n",
       "</tr>\n",
       "<tr>\n",
       "  <th>Time:</th>                  <td>22:14:07</td>      <th>                     </th>      <td> </td>    \n",
       "</tr>\n",
       "<tr>\n",
       "  <th>No. Observations:</th>       <td>  2749</td>       <th>                     </th>      <td> </td>    \n",
       "</tr>\n",
       "<tr>\n",
       "  <th>Df Residuals:</th>           <td>  2748</td>       <th>                     </th>      <td> </td>    \n",
       "</tr>\n",
       "<tr>\n",
       "  <th>Df Model:</th>               <td>     0</td>       <th>                     </th>      <td> </td>    \n",
       "</tr>\n",
       "</table>\n",
       "<table class=\"simpletable\">\n",
       "<tr>\n",
       "    <td></td>       <th>coef</th>     <th>std err</th>      <th>z</th>      <th>P>|z|</th>  <th>[0.025</th>    <th>0.975]</th>  \n",
       "</tr>\n",
       "<tr>\n",
       "  <th>const</th> <td>   -0.1245</td> <td>      nan</td> <td>      nan</td> <td>   nan</td> <td>      nan</td> <td>      nan</td>\n",
       "</tr>\n",
       "<tr>\n",
       "  <th>par0</th>  <td>   -0.0896</td> <td>      nan</td> <td>      nan</td> <td>   nan</td> <td>      nan</td> <td>      nan</td>\n",
       "</tr>\n",
       "<tr>\n",
       "  <th>par1</th>  <td>   43.4803</td> <td>      nan</td> <td>      nan</td> <td>   nan</td> <td>      nan</td> <td>      nan</td>\n",
       "</tr>\n",
       "<tr>\n",
       "  <th>par2</th>  <td>    0.4606</td> <td>      nan</td> <td>      nan</td> <td>   nan</td> <td>      nan</td> <td>      nan</td>\n",
       "</tr>\n",
       "<tr>\n",
       "  <th>par3</th>  <td>    0.4606</td> <td>      nan</td> <td>      nan</td> <td>   nan</td> <td>      nan</td> <td>      nan</td>\n",
       "</tr>\n",
       "</table>"
      ],
      "text/plain": [
       "<class 'statsmodels.iolib.summary.Summary'>\n",
       "\"\"\"\n",
       "                                Locfdr Results                                \n",
       "==============================================================================\n",
       "Dep. Variable:                      y   Log-Likelihood:                 6646.5\n",
       "Model:                         Locfdr   AIC:                        -1.329e+04\n",
       "Method:            Maximum Likelihood   BIC:                        -1.329e+04\n",
       "Date:                Thu, 19 Mar 2020                                         \n",
       "Time:                        22:14:07                                         \n",
       "No. Observations:                2749                                         \n",
       "Df Residuals:                    2748                                         \n",
       "Df Model:                           0                                         \n",
       "==============================================================================\n",
       "                 coef    std err          z      P>|z|      [0.025      0.975]\n",
       "------------------------------------------------------------------------------\n",
       "const         -0.1245        nan        nan        nan         nan         nan\n",
       "par0          -0.0896        nan        nan        nan         nan         nan\n",
       "par1          43.4803        nan        nan        nan         nan         nan\n",
       "par2           0.4606        nan        nan        nan         nan         nan\n",
       "par3           0.4606        nan        nan        nan         nan         nan\n",
       "==============================================================================\n",
       "\"\"\""
      ]
     },
     "execution_count": 90,
     "metadata": {},
     "output_type": "execute_result"
    }
   ],
   "source": [
    "res.summary()"
   ]
  },
  {
   "cell_type": "code",
   "execution_count": 87,
   "metadata": {},
   "outputs": [
    {
     "data": {
      "text/plain": [
       "(1.4918246976412703, 8.24824128462666)"
      ]
     },
     "execution_count": 87,
     "metadata": {},
     "output_type": "execute_result"
    }
   ],
   "source": [
    "np.exp(0.4), np.exp(2.11)"
   ]
  },
  {
   "cell_type": "code",
   "execution_count": 41,
   "metadata": {},
   "outputs": [
    {
     "data": {
      "text/plain": [
       "0.5157034505719386"
      ]
     },
     "execution_count": 41,
     "metadata": {},
     "output_type": "execute_result"
    }
   ],
   "source": [
    "st.truncnorm(-1, 1, 2, 2z).pdf(0.5)"
   ]
  },
  {
   "cell_type": "code",
   "execution_count": 43,
   "metadata": {},
   "outputs": [
    {
     "data": {
      "text/plain": [
       "0.5157034505719386"
      ]
     },
     "execution_count": 43,
     "metadata": {},
     "output_type": "execute_result"
    }
   ],
   "source": [
    "st.norm(0, 1).pdf(0.5) / (st.norm.cdf(1) - st.norm.cdf(-1))"
   ]
  },
  {
   "cell_type": "code",
   "execution_count": 89,
   "metadata": {},
   "outputs": [
    {
     "data": {
      "text/plain": [
       "[<matplotlib.lines.Line2D at 0x1c42f8c160>]"
      ]
     },
     "execution_count": 89,
     "metadata": {},
     "output_type": "execute_result"
    },
    {
     "data": {
      "image/png": "[encoded data removed]",
      "text/plain": [
       "<Figure size 432x288 with 1 Axes>"
      ]
     },
     "metadata": {
      "needs_background": "light"
     },
     "output_type": "display_data"
    }
   ],
   "source": [
    "plt.hist(police, bins = 50, density=True);\n",
    "plt.plot(np.linspace(-4, 4), probs)"
   ]
  },
  {
   "cell_type": "code",
   "execution_count": null,
   "metadata": {},
   "outputs": [],
   "source": [
    "plt.hist(trans_t, bins=50, ec = 'k', color ='w', density=True);\n",
    "plt.plot(np.linspace(-5, 5, 100) , st.norm.pdf(np.linspace(-5, 5, 100)), lw = 1, color = 'r',)"
   ]
  }
 ],
 "metadata": {
  "kernelspec": {
   "display_name": "Python 3",
   "language": "python",
   "name": "python3"
  },
  "language_info": {
   "codemirror_mode": {
    "name": "ipython",
    "version": 3
   },
   "file_extension": ".py",
   "mimetype": "text/x-python",
   "name": "python",
   "nbconvert_exporter": "python",
   "pygments_lexer": "ipython3",
   "version": "3.7.4"
  }
 },
 "nbformat": 4,
 "nbformat_minor": 4
}
